{
 "cells": [
  {
   "cell_type": "code",
   "execution_count": 111,
   "metadata": {},
   "outputs": [],
   "source": [
    "import os\n",
    "import chromadb\n",
    "from tqdm import tqdm\n",
    "from langchain_community.chat_models import ChatOllama\n",
    "from langchain_community.llms import Ollama\n",
    "from langchain_community.document_loaders import PyPDFLoader\n",
    "from langchain_community.embeddings import OllamaEmbeddings\n",
    "from langchain_community.vectorstores import Chroma\n",
    "from langchain_community.chat_message_histories import ChatMessageHistory\n",
    "from langchain_text_splitters import RecursiveCharacterTextSplitter\n",
    "from langchain_core.runnables.history import RunnableWithMessageHistory\n",
    "from langchain_core.prompts import ChatPromptTemplate, MessagesPlaceholder\n",
    "from langchain_core.chat_history import BaseChatMessageHistory\n",
    "from langchain.chains import create_retrieval_chain, create_history_aware_retriever\n",
    "from langchain.chains.combine_documents import create_stuff_documents_chain\n",
    "from langchain.retrievers import ContextualCompressionRetriever\n",
    "from langchain.retrievers.document_compressors import LLMChainExtractor"
   ]
  },
  {
   "cell_type": "code",
   "execution_count": null,
   "metadata": {},
   "outputs": [],
   "source": [
    "'''\n",
    "from flask import Flask, request\n",
    "from gradio_client import Client\n",
    "\n",
    "app = Flask(__name__)\n",
    "app.config['CORS_HEADERS'] = 'Content-Type'\n",
    "\n",
    "\n",
    "@app.route('/cs_llm/', methods=['GET'])\n",
    "\n",
    "prompt = request.args.get('prompt')\n",
    "'''"
   ]
  },
  {
   "cell_type": "code",
   "execution_count": 9,
   "metadata": {},
   "outputs": [],
   "source": [
    "llm = ChatOllama(model=\"llama2:7b\")\n",
    "emb = OllamaEmbeddings(model=\"llama2:7b\")"
   ]
  },
  {
   "cell_type": "code",
   "execution_count": 29,
   "metadata": {},
   "outputs": [
    {
     "data": {
      "text/plain": [
       "\"Hello there! It's nice to meet you. Is there something I can help you with or would you like to chat?\""
      ]
     },
     "execution_count": 29,
     "metadata": {},
     "output_type": "execute_result"
    }
   ],
   "source": [
    "llm.invoke(\"Hello world!\")"
   ]
  },
  {
   "cell_type": "code",
   "execution_count": 30,
   "metadata": {},
   "outputs": [],
   "source": [
    "class OllamaEmbeddingFn(chromadb.EmbeddingFunction):\n",
    "    def __call__(self, input: chromadb.Documents) -> chromadb.Embeddings:\n",
    "        return emb.embed_documents(input)"
   ]
  },
  {
   "cell_type": "code",
   "execution_count": 31,
   "metadata": {},
   "outputs": [],
   "source": [
    "# initialise chroma collection\n",
    "# adapted from https://docs.trychroma.com/usage-guide#using-collections\n",
    "client = chromadb.PersistentClient(path=\"documents/chroma_db\")\n",
    "collection = client.get_or_create_collection(\n",
    "    name=\"helpsheets\", embedding_function=OllamaEmbeddingFn()\n",
    ")"
   ]
  },
  {
   "cell_type": "code",
   "execution_count": 65,
   "metadata": {},
   "outputs": [
    {
     "name": "stdout",
     "output_type": "stream",
     "text": [
      "documents\\LN\\05.SortingA.pdf\n"
     ]
    }
   ],
   "source": [
    "# paths of documents to index\n",
    "helpsheet_dir = r\"documents\"\n",
    "helpsheet_paths = []\n",
    "for root, dirs, files in os.walk(helpsheet_dir):\n",
    "    for file in files:\n",
    "        helpsheet_paths.append(os.path.join(root, file))\n",
    "print(helpsheet_paths[26])"
   ]
  },
  {
   "cell_type": "code",
   "execution_count": 66,
   "metadata": {},
   "outputs": [
    {
     "name": "stdout",
     "output_type": "stream",
     "text": [
      "4832\n"
     ]
    },
    {
     "name": "stderr",
     "output_type": "stream",
     "text": [
      "0it [00:00, ?it/s]Ignoring wrong pointing object 6 0 (offset 0)\n",
      "Ignoring wrong pointing object 8 0 (offset 0)\n",
      "Ignoring wrong pointing object 14 0 (offset 0)\n",
      "Ignoring wrong pointing object 17 0 (offset 0)\n",
      "Ignoring wrong pointing object 19 0 (offset 0)\n",
      "Ignoring wrong pointing object 35 0 (offset 0)\n",
      "Ignoring wrong pointing object 41 0 (offset 0)\n",
      "Ignoring wrong pointing object 43 0 (offset 0)\n",
      "Ignoring wrong pointing object 49 0 (offset 0)\n",
      "Ignoring wrong pointing object 55 0 (offset 0)\n",
      "Ignoring wrong pointing object 62 0 (offset 0)\n",
      "Ignoring wrong pointing object 64 0 (offset 0)\n",
      "Ignoring wrong pointing object 66 0 (offset 0)\n",
      "Ignoring wrong pointing object 73 0 (offset 0)\n",
      "Ignoring wrong pointing object 75 0 (offset 0)\n",
      "Ignoring wrong pointing object 77 0 (offset 0)\n",
      "Ignoring wrong pointing object 88 0 (offset 0)\n",
      "Ignoring wrong pointing object 93 0 (offset 0)\n",
      "Ignoring wrong pointing object 98 0 (offset 0)\n",
      "Ignoring wrong pointing object 114 0 (offset 0)\n",
      "Ignoring wrong pointing object 116 0 (offset 0)\n",
      "Ignoring wrong pointing object 121 0 (offset 0)\n",
      "Ignoring wrong pointing object 123 0 (offset 0)\n",
      "Ignoring wrong pointing object 128 0 (offset 0)\n",
      "Ignoring wrong pointing object 130 0 (offset 0)\n",
      "Ignoring wrong pointing object 138 0 (offset 0)\n",
      "Ignoring wrong pointing object 143 0 (offset 0)\n",
      "Ignoring wrong pointing object 164 0 (offset 0)\n",
      "Ignoring wrong pointing object 186 0 (offset 0)\n",
      "Ignoring wrong pointing object 198 0 (offset 0)\n",
      "Ignoring wrong pointing object 232 0 (offset 0)\n",
      "Ignoring wrong pointing object 238 0 (offset 0)\n",
      "Ignoring wrong pointing object 247 0 (offset 0)\n",
      "Ignoring wrong pointing object 277 0 (offset 0)\n",
      "Ignoring wrong pointing object 279 0 (offset 0)\n",
      "Ignoring wrong pointing object 284 0 (offset 0)\n",
      "Ignoring wrong pointing object 286 0 (offset 0)\n",
      "Ignoring wrong pointing object 288 0 (offset 0)\n",
      "Ignoring wrong pointing object 294 0 (offset 0)\n",
      "Ignoring wrong pointing object 315 0 (offset 0)\n",
      "Ignoring wrong pointing object 334 0 (offset 0)\n",
      "Ignoring wrong pointing object 368 0 (offset 0)\n",
      "Ignoring wrong pointing object 406 0 (offset 0)\n",
      "Ignoring wrong pointing object 408 0 (offset 0)\n",
      "Ignoring wrong pointing object 410 0 (offset 0)\n",
      "Ignoring wrong pointing object 412 0 (offset 0)\n",
      "Ignoring wrong pointing object 421 0 (offset 0)\n",
      "Ignoring wrong pointing object 447 0 (offset 0)\n",
      "Ignoring wrong pointing object 466 0 (offset 0)\n",
      "Ignoring wrong pointing object 474 0 (offset 0)\n",
      "Ignoring wrong pointing object 516 0 (offset 0)\n",
      "Ignoring wrong pointing object 540 0 (offset 0)\n",
      "Ignoring wrong pointing object 542 0 (offset 0)\n",
      "Ignoring wrong pointing object 544 0 (offset 0)\n",
      "Ignoring wrong pointing object 550 0 (offset 0)\n",
      "Ignoring wrong pointing object 569 0 (offset 0)\n",
      "Ignoring wrong pointing object 596 0 (offset 0)\n",
      "Ignoring wrong pointing object 611 0 (offset 0)\n",
      "Ignoring wrong pointing object 613 0 (offset 0)\n",
      "Ignoring wrong pointing object 615 0 (offset 0)\n",
      "Ignoring wrong pointing object 617 0 (offset 0)\n",
      "Ignoring wrong pointing object 649 0 (offset 0)\n",
      "Ignoring wrong pointing object 651 0 (offset 0)\n",
      "Ignoring wrong pointing object 684 0 (offset 0)\n",
      "Ignoring wrong pointing object 686 0 (offset 0)\n",
      "Ignoring wrong pointing object 688 0 (offset 0)\n",
      "Ignoring wrong pointing object 690 0 (offset 0)\n",
      "Ignoring wrong pointing object 692 0 (offset 0)\n",
      "Ignoring wrong pointing object 697 0 (offset 0)\n",
      "Ignoring wrong pointing object 702 0 (offset 0)\n",
      "Ignoring wrong pointing object 765 0 (offset 0)\n",
      "Ignoring wrong pointing object 767 0 (offset 0)\n",
      "Ignoring wrong pointing object 769 0 (offset 0)\n",
      "Ignoring wrong pointing object 771 0 (offset 0)\n",
      "Ignoring wrong pointing object 773 0 (offset 0)\n",
      "Ignoring wrong pointing object 778 0 (offset 0)\n",
      "Ignoring wrong pointing object 784 0 (offset 0)\n",
      "Ignoring wrong pointing object 786 0 (offset 0)\n",
      "Ignoring wrong pointing object 788 0 (offset 0)\n",
      "Ignoring wrong pointing object 812 0 (offset 0)\n",
      "Ignoring wrong pointing object 818 0 (offset 0)\n",
      "Ignoring wrong pointing object 827 0 (offset 0)\n",
      "Ignoring wrong pointing object 861 0 (offset 0)\n",
      "Ignoring wrong pointing object 866 0 (offset 0)\n",
      "Ignoring wrong pointing object 868 0 (offset 0)\n",
      "Ignoring wrong pointing object 873 0 (offset 0)\n",
      "Ignoring wrong pointing object 875 0 (offset 0)\n",
      "Ignoring wrong pointing object 877 0 (offset 0)\n"
     ]
    },
    {
     "name": "stdout",
     "output_type": "stream",
     "text": [
      "0 documents\\Introduction.to.Algorithms.4th.Leiserson.Stein.Rivest.Cormen.MIT.Press.9780262046305.EBooksWorld.ir.pdf\n",
      "1 documents\\chroma_db\\chroma.sqlite3\n",
      "2 documents\\chroma_db\\217e7dbe-4914-4272-a617-d692bbc469c3\\data_level0.bin\n",
      "3 documents\\chroma_db\\217e7dbe-4914-4272-a617-d692bbc469c3\\header.bin\n",
      "4 documents\\chroma_db\\217e7dbe-4914-4272-a617-d692bbc469c3\\index_metadata.pickle\n",
      "5 documents\\chroma_db\\217e7dbe-4914-4272-a617-d692bbc469c3\\length.bin\n",
      "6 documents\\chroma_db\\217e7dbe-4914-4272-a617-d692bbc469c3\\link_lists.bin\n",
      "7 documents\\helpsheet collection\\1 - Complexities and Searching.pdf\n",
      "8 documents\\helpsheet collection\\10 - Graphs.pdf\n",
      "9 documents\\helpsheet collection\\11 - Graph Operations and Analysis.pdf\n",
      "10 documents\\helpsheet collection\\12 - Minimum Spanning Tree.pdf\n",
      "11 documents\\helpsheet collection\\13 - Single Source Shortest Path.pdf\n",
      "12 documents\\helpsheet collection\\2 - Sorting.pdf\n",
      "13 documents\\helpsheet collection\\3 - Arrays and Linked Lists.pdf\n",
      "14 documents\\helpsheet collection\\4 - Lists Stacks and Queues.pdf\n",
      "15 documents\\helpsheet collection\\5 - HashTable and Collisions.pdf\n",
      "16 documents\\helpsheet collection\\6 - Priority Queue and Binary Heap.pdf\n",
      "17 documents\\helpsheet collection\\7 - Set and UFDS.pdf\n",
      "18 documents\\helpsheet collection\\8 - Ordered Map and BST.pdf\n",
      "19 documents\\helpsheet collection\\9 - AVL Trees and Balancing.pdf\n",
      "20 documents\\helpsheet collection\\cs2040s-cheatsheet.pdf\n",
      "21 documents\\helpsheet collection\\cs3230-cheatsheet.pdf\n",
      "22 documents\\LN\\01.Introduction.pdf\n",
      "23 documents\\LN\\02.Java-OOP.pdf\n",
      "24 documents\\LN\\03.Searching.pdf\n",
      "25 documents\\LN\\04.PeakFinding.pdf\n",
      "26 documents\\LN\\05.SortingA.pdf\n",
      "27 documents\\LN\\06.SortingB.pdf\n"
     ]
    },
    {
     "name": "stderr",
     "output_type": "stream",
     "text": [
      "28it [08:20, 17.87s/it]Ignoring wrong pointing object 7 0 (offset 0)\n",
      "Ignoring wrong pointing object 9 0 (offset 0)\n",
      "Ignoring wrong pointing object 17 0 (offset 0)\n",
      "Ignoring wrong pointing object 19 0 (offset 0)\n",
      "Ignoring wrong pointing object 25 0 (offset 0)\n",
      "Ignoring wrong pointing object 32 0 (offset 0)\n",
      "Ignoring wrong pointing object 46 0 (offset 0)\n",
      "Ignoring wrong pointing object 48 0 (offset 0)\n",
      "Ignoring wrong pointing object 50 0 (offset 0)\n",
      "Ignoring wrong pointing object 59 0 (offset 0)\n",
      "Ignoring wrong pointing object 61 0 (offset 0)\n",
      "Ignoring wrong pointing object 63 0 (offset 0)\n",
      "Ignoring wrong pointing object 65 0 (offset 0)\n",
      "Ignoring wrong pointing object 131 0 (offset 0)\n",
      "Ignoring wrong pointing object 133 0 (offset 0)\n",
      "Ignoring wrong pointing object 135 0 (offset 0)\n",
      "Ignoring wrong pointing object 137 0 (offset 0)\n",
      "Ignoring wrong pointing object 139 0 (offset 0)\n",
      "Ignoring wrong pointing object 141 0 (offset 0)\n",
      "Ignoring wrong pointing object 143 0 (offset 0)\n",
      "Ignoring wrong pointing object 145 0 (offset 0)\n",
      "Ignoring wrong pointing object 147 0 (offset 0)\n",
      "Ignoring wrong pointing object 158 0 (offset 0)\n",
      "Ignoring wrong pointing object 164 0 (offset 0)\n",
      "Ignoring wrong pointing object 166 0 (offset 0)\n",
      "Ignoring wrong pointing object 168 0 (offset 0)\n",
      "Ignoring wrong pointing object 274 0 (offset 0)\n",
      "Ignoring wrong pointing object 284 0 (offset 0)\n",
      "Ignoring wrong pointing object 294 0 (offset 0)\n",
      "Ignoring wrong pointing object 313 0 (offset 0)\n",
      "Ignoring wrong pointing object 340 0 (offset 0)\n",
      "Ignoring wrong pointing object 346 0 (offset 0)\n",
      "Ignoring wrong pointing object 348 0 (offset 0)\n",
      "Ignoring wrong pointing object 350 0 (offset 0)\n",
      "Ignoring wrong pointing object 364 0 (offset 0)\n",
      "Ignoring wrong pointing object 366 0 (offset 0)\n",
      "Ignoring wrong pointing object 368 0 (offset 0)\n",
      "Ignoring wrong pointing object 370 0 (offset 0)\n",
      "Ignoring wrong pointing object 372 0 (offset 0)\n",
      "Ignoring wrong pointing object 374 0 (offset 0)\n",
      "Ignoring wrong pointing object 409 0 (offset 0)\n",
      "Ignoring wrong pointing object 411 0 (offset 0)\n",
      "Ignoring wrong pointing object 442 0 (offset 0)\n",
      "Ignoring wrong pointing object 444 0 (offset 0)\n",
      "Ignoring wrong pointing object 450 0 (offset 0)\n",
      "Ignoring wrong pointing object 452 0 (offset 0)\n",
      "Ignoring wrong pointing object 454 0 (offset 0)\n",
      "Ignoring wrong pointing object 456 0 (offset 0)\n",
      "Ignoring wrong pointing object 466 0 (offset 0)\n",
      "Ignoring wrong pointing object 493 0 (offset 0)\n",
      "Ignoring wrong pointing object 495 0 (offset 0)\n",
      "Ignoring wrong pointing object 526 0 (offset 0)\n",
      "Ignoring wrong pointing object 549 0 (offset 0)\n",
      "Ignoring wrong pointing object 559 0 (offset 0)\n",
      "Ignoring wrong pointing object 561 0 (offset 0)\n"
     ]
    },
    {
     "name": "stdout",
     "output_type": "stream",
     "text": [
      "28 documents\\LN\\07.SortingC.QuickSort.pdf\n"
     ]
    },
    {
     "name": "stderr",
     "output_type": "stream",
     "text": [
      "29it [13:55, 33.26s/it]Ignoring wrong pointing object 7 0 (offset 0)\n",
      "Ignoring wrong pointing object 15 0 (offset 0)\n",
      "Ignoring wrong pointing object 17 0 (offset 0)\n",
      "Ignoring wrong pointing object 19 0 (offset 0)\n",
      "Ignoring wrong pointing object 21 0 (offset 0)\n",
      "Ignoring wrong pointing object 35 0 (offset 0)\n",
      "Ignoring wrong pointing object 37 0 (offset 0)\n",
      "Ignoring wrong pointing object 39 0 (offset 0)\n",
      "Ignoring wrong pointing object 41 0 (offset 0)\n",
      "Ignoring wrong pointing object 54 0 (offset 0)\n",
      "Ignoring wrong pointing object 56 0 (offset 0)\n",
      "Ignoring wrong pointing object 62 0 (offset 0)\n",
      "Ignoring wrong pointing object 64 0 (offset 0)\n",
      "Ignoring wrong pointing object 66 0 (offset 0)\n",
      "Ignoring wrong pointing object 68 0 (offset 0)\n",
      "Ignoring wrong pointing object 70 0 (offset 0)\n",
      "Ignoring wrong pointing object 77 0 (offset 0)\n",
      "Ignoring wrong pointing object 79 0 (offset 0)\n",
      "Ignoring wrong pointing object 81 0 (offset 0)\n",
      "Ignoring wrong pointing object 87 0 (offset 0)\n",
      "Ignoring wrong pointing object 89 0 (offset 0)\n",
      "Ignoring wrong pointing object 91 0 (offset 0)\n",
      "Ignoring wrong pointing object 97 0 (offset 0)\n",
      "Ignoring wrong pointing object 99 0 (offset 0)\n",
      "Ignoring wrong pointing object 105 0 (offset 0)\n",
      "Ignoring wrong pointing object 119 0 (offset 0)\n",
      "Ignoring wrong pointing object 125 0 (offset 0)\n",
      "Ignoring wrong pointing object 149 0 (offset 0)\n",
      "Ignoring wrong pointing object 151 0 (offset 0)\n",
      "Ignoring wrong pointing object 178 0 (offset 0)\n",
      "Ignoring wrong pointing object 184 0 (offset 0)\n",
      "Ignoring wrong pointing object 190 0 (offset 0)\n",
      "Ignoring wrong pointing object 196 0 (offset 0)\n",
      "Ignoring wrong pointing object 206 0 (offset 0)\n",
      "Ignoring wrong pointing object 208 0 (offset 0)\n",
      "Ignoring wrong pointing object 210 0 (offset 0)\n",
      "Ignoring wrong pointing object 262 0 (offset 0)\n",
      "Ignoring wrong pointing object 285 0 (offset 0)\n",
      "Ignoring wrong pointing object 287 0 (offset 0)\n",
      "Ignoring wrong pointing object 293 0 (offset 0)\n",
      "Ignoring wrong pointing object 295 0 (offset 0)\n",
      "Ignoring wrong pointing object 301 0 (offset 0)\n",
      "Ignoring wrong pointing object 328 0 (offset 0)\n",
      "Ignoring wrong pointing object 334 0 (offset 0)\n",
      "Ignoring wrong pointing object 340 0 (offset 0)\n",
      "Ignoring wrong pointing object 351 0 (offset 0)\n",
      "Ignoring wrong pointing object 357 0 (offset 0)\n",
      "Ignoring wrong pointing object 404 0 (offset 0)\n",
      "Ignoring wrong pointing object 421 0 (offset 0)\n",
      "Ignoring wrong pointing object 465 0 (offset 0)\n",
      "Ignoring wrong pointing object 467 0 (offset 0)\n",
      "Ignoring wrong pointing object 469 0 (offset 0)\n",
      "Ignoring wrong pointing object 553 0 (offset 0)\n",
      "Ignoring wrong pointing object 555 0 (offset 0)\n",
      "Ignoring wrong pointing object 557 0 (offset 0)\n",
      "Ignoring wrong pointing object 565 0 (offset 0)\n",
      "Ignoring wrong pointing object 576 0 (offset 0)\n",
      "Ignoring wrong pointing object 685 0 (offset 0)\n",
      "Ignoring wrong pointing object 699 0 (offset 0)\n",
      "Ignoring wrong pointing object 835 0 (offset 0)\n",
      "Ignoring wrong pointing object 915 0 (offset 0)\n",
      "Ignoring wrong pointing object 934 0 (offset 0)\n",
      "Ignoring wrong pointing object 1027 0 (offset 0)\n"
     ]
    },
    {
     "name": "stdout",
     "output_type": "stream",
     "text": [
      "29 documents\\LN\\08.Trees.pdf\n"
     ]
    },
    {
     "name": "stderr",
     "output_type": "stream",
     "text": [
      "30it [23:09, 67.03s/it]Ignoring wrong pointing object 7 0 (offset 0)\n",
      "Ignoring wrong pointing object 9 0 (offset 0)\n",
      "Ignoring wrong pointing object 11 0 (offset 0)\n",
      "Ignoring wrong pointing object 21 0 (offset 0)\n",
      "Ignoring wrong pointing object 23 0 (offset 0)\n",
      "Ignoring wrong pointing object 25 0 (offset 0)\n",
      "Ignoring wrong pointing object 35 0 (offset 0)\n",
      "Ignoring wrong pointing object 41 0 (offset 0)\n",
      "Ignoring wrong pointing object 54 0 (offset 0)\n",
      "Ignoring wrong pointing object 56 0 (offset 0)\n",
      "Ignoring wrong pointing object 62 0 (offset 0)\n",
      "Ignoring wrong pointing object 64 0 (offset 0)\n",
      "Ignoring wrong pointing object 66 0 (offset 0)\n",
      "Ignoring wrong pointing object 68 0 (offset 0)\n",
      "Ignoring wrong pointing object 79 0 (offset 0)\n",
      "Ignoring wrong pointing object 89 0 (offset 0)\n",
      "Ignoring wrong pointing object 91 0 (offset 0)\n",
      "Ignoring wrong pointing object 94 0 (offset 0)\n",
      "Ignoring wrong pointing object 116 0 (offset 0)\n",
      "Ignoring wrong pointing object 118 0 (offset 0)\n",
      "Ignoring wrong pointing object 125 0 (offset 0)\n",
      "Ignoring wrong pointing object 143 0 (offset 0)\n",
      "Ignoring wrong pointing object 213 0 (offset 0)\n",
      "Ignoring wrong pointing object 215 0 (offset 0)\n",
      "Ignoring wrong pointing object 253 0 (offset 0)\n",
      "Ignoring wrong pointing object 259 0 (offset 0)\n",
      "Ignoring wrong pointing object 274 0 (offset 0)\n",
      "Ignoring wrong pointing object 300 0 (offset 0)\n",
      "Ignoring wrong pointing object 409 0 (offset 0)\n"
     ]
    },
    {
     "name": "stdout",
     "output_type": "stream",
     "text": [
      "30 documents\\LN\\09.BalancedTrees.pdf\n"
     ]
    },
    {
     "name": "stderr",
     "output_type": "stream",
     "text": [
      "31it [26:16, 77.25s/it]Ignoring wrong pointing object 7 0 (offset 0)\n",
      "Ignoring wrong pointing object 9 0 (offset 0)\n",
      "Ignoring wrong pointing object 11 0 (offset 0)\n",
      "Ignoring wrong pointing object 13 0 (offset 0)\n",
      "Ignoring wrong pointing object 15 0 (offset 0)\n",
      "Ignoring wrong pointing object 24 0 (offset 0)\n",
      "Ignoring wrong pointing object 26 0 (offset 0)\n",
      "Ignoring wrong pointing object 28 0 (offset 0)\n",
      "Ignoring wrong pointing object 37 0 (offset 0)\n",
      "Ignoring wrong pointing object 48 0 (offset 0)\n",
      "Ignoring wrong pointing object 50 0 (offset 0)\n",
      "Ignoring wrong pointing object 52 0 (offset 0)\n",
      "Ignoring wrong pointing object 62 0 (offset 0)\n",
      "Ignoring wrong pointing object 79 0 (offset 0)\n",
      "Ignoring wrong pointing object 81 0 (offset 0)\n",
      "Ignoring wrong pointing object 83 0 (offset 0)\n",
      "Ignoring wrong pointing object 89 0 (offset 0)\n",
      "Ignoring wrong pointing object 103 0 (offset 0)\n",
      "Ignoring wrong pointing object 106 0 (offset 0)\n",
      "Ignoring wrong pointing object 112 0 (offset 0)\n",
      "Ignoring wrong pointing object 142 0 (offset 0)\n",
      "Ignoring wrong pointing object 203 0 (offset 0)\n",
      "Ignoring wrong pointing object 251 0 (offset 0)\n",
      "Ignoring wrong pointing object 257 0 (offset 0)\n",
      "Ignoring wrong pointing object 263 0 (offset 0)\n",
      "Ignoring wrong pointing object 290 0 (offset 0)\n",
      "Ignoring wrong pointing object 296 0 (offset 0)\n",
      "Ignoring wrong pointing object 368 0 (offset 0)\n",
      "Ignoring wrong pointing object 370 0 (offset 0)\n",
      "Ignoring wrong pointing object 413 0 (offset 0)\n",
      "Ignoring wrong pointing object 465 0 (offset 0)\n",
      "Ignoring wrong pointing object 524 0 (offset 0)\n",
      "Ignoring wrong pointing object 580 0 (offset 0)\n",
      "Ignoring wrong pointing object 590 0 (offset 0)\n",
      "Ignoring wrong pointing object 605 0 (offset 0)\n",
      "Ignoring wrong pointing object 722 0 (offset 0)\n"
     ]
    },
    {
     "name": "stdout",
     "output_type": "stream",
     "text": [
      "31 documents\\LN\\10.MoreTrees.pdf\n"
     ]
    },
    {
     "name": "stderr",
     "output_type": "stream",
     "text": [
      "32it [32:57, 112.15s/it]Ignoring wrong pointing object 7 0 (offset 0)\n",
      "Ignoring wrong pointing object 9 0 (offset 0)\n",
      "Ignoring wrong pointing object 18 0 (offset 0)\n",
      "Ignoring wrong pointing object 20 0 (offset 0)\n",
      "Ignoring wrong pointing object 22 0 (offset 0)\n",
      "Ignoring wrong pointing object 31 0 (offset 0)\n",
      "Ignoring wrong pointing object 44 0 (offset 0)\n",
      "Ignoring wrong pointing object 46 0 (offset 0)\n",
      "Ignoring wrong pointing object 52 0 (offset 0)\n",
      "Ignoring wrong pointing object 64 0 (offset 0)\n",
      "Ignoring wrong pointing object 66 0 (offset 0)\n",
      "Ignoring wrong pointing object 68 0 (offset 0)\n",
      "Ignoring wrong pointing object 74 0 (offset 0)\n",
      "Ignoring wrong pointing object 85 0 (offset 0)\n",
      "Ignoring wrong pointing object 95 0 (offset 0)\n",
      "Ignoring wrong pointing object 109 0 (offset 0)\n",
      "Ignoring wrong pointing object 120 0 (offset 0)\n",
      "Ignoring wrong pointing object 126 0 (offset 0)\n",
      "Ignoring wrong pointing object 140 0 (offset 0)\n",
      "Ignoring wrong pointing object 176 0 (offset 0)\n",
      "Ignoring wrong pointing object 211 0 (offset 0)\n",
      "Ignoring wrong pointing object 221 0 (offset 0)\n",
      "Ignoring wrong pointing object 269 0 (offset 0)\n",
      "Ignoring wrong pointing object 272 0 (offset 0)\n",
      "Ignoring wrong pointing object 322 0 (offset 0)\n",
      "Ignoring wrong pointing object 324 0 (offset 0)\n",
      "Ignoring wrong pointing object 363 0 (offset 0)\n",
      "Ignoring wrong pointing object 525 0 (offset 0)\n"
     ]
    },
    {
     "name": "stdout",
     "output_type": "stream",
     "text": [
      "32 documents\\LN\\11.AugmentedTrees.pdf\n"
     ]
    },
    {
     "name": "stderr",
     "output_type": "stream",
     "text": [
      "33it [37:39, 134.89s/it]Ignoring wrong pointing object 7 0 (offset 0)\n",
      "Ignoring wrong pointing object 9 0 (offset 0)\n",
      "Ignoring wrong pointing object 18 0 (offset 0)\n",
      "Ignoring wrong pointing object 20 0 (offset 0)\n",
      "Ignoring wrong pointing object 27 0 (offset 0)\n",
      "Ignoring wrong pointing object 29 0 (offset 0)\n",
      "Ignoring wrong pointing object 38 0 (offset 0)\n",
      "Ignoring wrong pointing object 62 0 (offset 0)\n",
      "Ignoring wrong pointing object 64 0 (offset 0)\n",
      "Ignoring wrong pointing object 70 0 (offset 0)\n",
      "Ignoring wrong pointing object 72 0 (offset 0)\n",
      "Ignoring wrong pointing object 79 0 (offset 0)\n",
      "Ignoring wrong pointing object 99 0 (offset 0)\n",
      "Ignoring wrong pointing object 101 0 (offset 0)\n",
      "Ignoring wrong pointing object 123 0 (offset 0)\n",
      "Ignoring wrong pointing object 130 0 (offset 0)\n",
      "Ignoring wrong pointing object 144 0 (offset 0)\n",
      "Ignoring wrong pointing object 176 0 (offset 0)\n",
      "Ignoring wrong pointing object 179 0 (offset 0)\n",
      "Ignoring wrong pointing object 185 0 (offset 0)\n",
      "Ignoring wrong pointing object 195 0 (offset 0)\n",
      "Ignoring wrong pointing object 260 0 (offset 0)\n",
      "Ignoring wrong pointing object 363 0 (offset 0)\n",
      "Ignoring wrong pointing object 377 0 (offset 0)\n",
      "Ignoring wrong pointing object 408 0 (offset 0)\n",
      "Ignoring wrong pointing object 427 0 (offset 0)\n",
      "Ignoring wrong pointing object 433 0 (offset 0)\n",
      "Ignoring wrong pointing object 460 0 (offset 0)\n",
      "Ignoring wrong pointing object 462 0 (offset 0)\n",
      "Ignoring wrong pointing object 472 0 (offset 0)\n",
      "Ignoring wrong pointing object 478 0 (offset 0)\n",
      "Ignoring wrong pointing object 509 0 (offset 0)\n",
      "Ignoring wrong pointing object 519 0 (offset 0)\n",
      "Ignoring wrong pointing object 529 0 (offset 0)\n",
      "Ignoring wrong pointing object 536 0 (offset 0)\n",
      "Ignoring wrong pointing object 552 0 (offset 0)\n",
      "Ignoring wrong pointing object 624 0 (offset 0)\n",
      "Ignoring wrong pointing object 626 0 (offset 0)\n",
      "Ignoring wrong pointing object 686 0 (offset 0)\n",
      "Ignoring wrong pointing object 688 0 (offset 0)\n",
      "Ignoring wrong pointing object 709 0 (offset 0)\n",
      "Ignoring wrong pointing object 736 0 (offset 0)\n",
      "Ignoring wrong pointing object 738 0 (offset 0)\n",
      "Ignoring wrong pointing object 897 0 (offset 0)\n",
      "Ignoring wrong pointing object 1118 0 (offset 0)\n",
      "Ignoring wrong pointing object 1126 0 (offset 0)\n",
      "Ignoring wrong pointing object 1128 0 (offset 0)\n",
      "Ignoring wrong pointing object 1130 0 (offset 0)\n",
      "Ignoring wrong pointing object 1137 0 (offset 0)\n",
      "Ignoring wrong pointing object 1139 0 (offset 0)\n",
      "Ignoring wrong pointing object 1141 0 (offset 0)\n",
      "Ignoring wrong pointing object 1143 0 (offset 0)\n",
      "Ignoring wrong pointing object 1154 0 (offset 0)\n"
     ]
    },
    {
     "name": "stdout",
     "output_type": "stream",
     "text": [
      "33 documents\\LN\\12.TreesandHeaps.pdf\n"
     ]
    },
    {
     "name": "stderr",
     "output_type": "stream",
     "text": [
      "34it [46:59, 203.09s/it]Ignoring wrong pointing object 7 0 (offset 0)\n",
      "Ignoring wrong pointing object 9 0 (offset 0)\n",
      "Ignoring wrong pointing object 16 0 (offset 0)\n",
      "Ignoring wrong pointing object 18 0 (offset 0)\n",
      "Ignoring wrong pointing object 25 0 (offset 0)\n",
      "Ignoring wrong pointing object 27 0 (offset 0)\n",
      "Ignoring wrong pointing object 37 0 (offset 0)\n",
      "Ignoring wrong pointing object 79 0 (offset 0)\n",
      "Ignoring wrong pointing object 136 0 (offset 0)\n",
      "Ignoring wrong pointing object 142 0 (offset 0)\n",
      "Ignoring wrong pointing object 145 0 (offset 0)\n",
      "Ignoring wrong pointing object 152 0 (offset 0)\n",
      "Ignoring wrong pointing object 167 0 (offset 0)\n",
      "Ignoring wrong pointing object 170 0 (offset 0)\n",
      "Ignoring wrong pointing object 172 0 (offset 0)\n",
      "Ignoring wrong pointing object 179 0 (offset 0)\n",
      "Ignoring wrong pointing object 193 0 (offset 0)\n",
      "Ignoring wrong pointing object 211 0 (offset 0)\n",
      "Ignoring wrong pointing object 292 0 (offset 0)\n",
      "Ignoring wrong pointing object 332 0 (offset 0)\n",
      "Ignoring wrong pointing object 397 0 (offset 0)\n",
      "Ignoring wrong pointing object 407 0 (offset 0)\n",
      "Ignoring wrong pointing object 492 0 (offset 0)\n",
      "Ignoring wrong pointing object 498 0 (offset 0)\n",
      "Ignoring wrong pointing object 500 0 (offset 0)\n",
      "Ignoring wrong pointing object 502 0 (offset 0)\n",
      "Ignoring wrong pointing object 508 0 (offset 0)\n",
      "Ignoring wrong pointing object 514 0 (offset 0)\n",
      "Ignoring wrong pointing object 528 0 (offset 0)\n",
      "Ignoring wrong pointing object 535 0 (offset 0)\n",
      "Ignoring wrong pointing object 541 0 (offset 0)\n",
      "Ignoring wrong pointing object 543 0 (offset 0)\n",
      "Ignoring wrong pointing object 545 0 (offset 0)\n",
      "Ignoring wrong pointing object 547 0 (offset 0)\n",
      "Ignoring wrong pointing object 569 0 (offset 0)\n",
      "Ignoring wrong pointing object 571 0 (offset 0)\n",
      "Ignoring wrong pointing object 613 0 (offset 0)\n",
      "Ignoring wrong pointing object 615 0 (offset 0)\n",
      "Ignoring wrong pointing object 617 0 (offset 0)\n",
      "Ignoring wrong pointing object 652 0 (offset 0)\n",
      "Ignoring wrong pointing object 709 0 (offset 0)\n",
      "Ignoring wrong pointing object 713 0 (offset 0)\n",
      "Ignoring wrong pointing object 720 0 (offset 0)\n"
     ]
    },
    {
     "name": "stdout",
     "output_type": "stream",
     "text": [
      "34 documents\\LN\\13.UnionFind.pdf\n"
     ]
    },
    {
     "name": "stderr",
     "output_type": "stream",
     "text": [
      "35it [52:24, 225.80s/it]"
     ]
    },
    {
     "name": "stdout",
     "output_type": "stream",
     "text": [
      "35 documents\\LN\\14.Hashing1.pdf\n"
     ]
    },
    {
     "name": "stderr",
     "output_type": "stream",
     "text": [
      "36it [54:48, 208.55s/it]"
     ]
    },
    {
     "name": "stdout",
     "output_type": "stream",
     "text": [
      "36 documents\\LN\\15.Hashing2.pdf\n"
     ]
    },
    {
     "name": "stderr",
     "output_type": "stream",
     "text": [
      "37it [1:01:43, 256.20s/it]"
     ]
    },
    {
     "name": "stdout",
     "output_type": "stream",
     "text": [
      "37 documents\\LN\\16.Hashing3.pdf\n"
     ]
    },
    {
     "name": "stderr",
     "output_type": "stream",
     "text": [
      "38it [1:05:24, 247.56s/it]"
     ]
    },
    {
     "name": "stdout",
     "output_type": "stream",
     "text": [
      "38 documents\\LN\\17.Hashing4GraphsIntro.pdf\n"
     ]
    },
    {
     "name": "stderr",
     "output_type": "stream",
     "text": [
      "39it [1:12:48, 299.04s/it]"
     ]
    },
    {
     "name": "stdout",
     "output_type": "stream",
     "text": [
      "39 documents\\LN\\18.Graphs2.pdf\n"
     ]
    },
    {
     "name": "stderr",
     "output_type": "stream",
     "text": [
      "40it [1:16:31, 278.26s/it]"
     ]
    },
    {
     "name": "stdout",
     "output_type": "stream",
     "text": [
      "40 documents\\LN\\19.SSSP.pdf\n"
     ]
    },
    {
     "name": "stderr",
     "output_type": "stream",
     "text": [
      "41it [1:22:23, 299.01s/it]"
     ]
    },
    {
     "name": "stdout",
     "output_type": "stream",
     "text": [
      "41 documents\\LN\\20.SSSP+DAGs.pdf\n"
     ]
    },
    {
     "name": "stderr",
     "output_type": "stream",
     "text": [
      "42it [1:27:11, 295.84s/it]"
     ]
    },
    {
     "name": "stdout",
     "output_type": "stream",
     "text": [
      "42 documents\\LN\\21.MST.pdf\n"
     ]
    },
    {
     "name": "stderr",
     "output_type": "stream",
     "text": [
      "43it [1:34:56, 344.86s/it]"
     ]
    },
    {
     "name": "stdout",
     "output_type": "stream",
     "text": [
      "43 documents\\LN\\22.DynamicProgrammingIntro.pdf\n"
     ]
    },
    {
     "name": "stderr",
     "output_type": "stream",
     "text": [
      "44it [1:38:41, 309.69s/it]"
     ]
    },
    {
     "name": "stdout",
     "output_type": "stream",
     "text": [
      "44 documents\\LN\\23.DynamicProgramming2.pdf\n"
     ]
    },
    {
     "name": "stderr",
     "output_type": "stream",
     "text": [
      "45it [1:43:26, 302.32s/it]"
     ]
    },
    {
     "name": "stdout",
     "output_type": "stream",
     "text": [
      "45 documents\\LN\\24.Conclusion.pdf\n"
     ]
    },
    {
     "name": "stderr",
     "output_type": "stream",
     "text": [
      "46it [1:47:23, 283.07s/it]"
     ]
    },
    {
     "name": "stdout",
     "output_type": "stream",
     "text": [
      "46 documents\\questions\\CS2040S_2020_2021_Sem1_midterm_ans.pdf\n"
     ]
    },
    {
     "name": "stderr",
     "output_type": "stream",
     "text": [
      "47it [1:49:08, 230.10s/it]"
     ]
    },
    {
     "name": "stdout",
     "output_type": "stream",
     "text": [
      "47 documents\\questions\\CS2040S_2021_2022_Sem1_midterm_ans.pdf\n"
     ]
    },
    {
     "name": "stderr",
     "output_type": "stream",
     "text": [
      "48it [1:51:09, 197.60s/it]"
     ]
    },
    {
     "name": "stdout",
     "output_type": "stream",
     "text": [
      "48 documents\\questions\\CS2040_1819SEM4_Midterm_sample_ans.pdf\n"
     ]
    },
    {
     "name": "stderr",
     "output_type": "stream",
     "text": [
      "49it [1:51:57, 152.79s/it]"
     ]
    },
    {
     "name": "stdout",
     "output_type": "stream",
     "text": [
      "49 documents\\questions\\CS2040_1920SEM1_Midterm_sample_ans.pdf\n"
     ]
    },
    {
     "name": "stderr",
     "output_type": "stream",
     "text": [
      "50it [1:53:39, 137.52s/it]"
     ]
    },
    {
     "name": "stdout",
     "output_type": "stream",
     "text": [
      "50 documents\\questions\\CS2040_2020_2021_Sem2_midterm_ans.pdf\n"
     ]
    },
    {
     "name": "stderr",
     "output_type": "stream",
     "text": [
      "51it [1:54:55, 119.21s/it]"
     ]
    },
    {
     "name": "stdout",
     "output_type": "stream",
     "text": [
      "51 documents\\questions\\FA Suggested Ans & Marking Scheme.pdf\n"
     ]
    },
    {
     "name": "stderr",
     "output_type": "stream",
     "text": [
      "52it [1:56:42, 115.58s/it]"
     ]
    },
    {
     "name": "stdout",
     "output_type": "stream",
     "text": [
      "52 documents\\questions\\T10_ans.pdf\n"
     ]
    },
    {
     "name": "stderr",
     "output_type": "stream",
     "text": [
      "53it [1:57:22, 92.90s/it] "
     ]
    },
    {
     "name": "stdout",
     "output_type": "stream",
     "text": [
      "53 documents\\questions\\T11_ansv2.pdf\n"
     ]
    },
    {
     "name": "stderr",
     "output_type": "stream",
     "text": [
      "54it [1:57:43, 71.31s/it]"
     ]
    },
    {
     "name": "stdout",
     "output_type": "stream",
     "text": [
      "54 documents\\questions\\T4_ans.pdf\n"
     ]
    },
    {
     "name": "stderr",
     "output_type": "stream",
     "text": [
      "55it [1:58:17, 60.33s/it]"
     ]
    },
    {
     "name": "stdout",
     "output_type": "stream",
     "text": [
      "55 documents\\questions\\T5_ans.pdf\n"
     ]
    },
    {
     "name": "stderr",
     "output_type": "stream",
     "text": [
      "56it [1:58:49, 51.72s/it]"
     ]
    },
    {
     "name": "stdout",
     "output_type": "stream",
     "text": [
      "56 documents\\questions\\T7_ans.pdf\n"
     ]
    },
    {
     "name": "stderr",
     "output_type": "stream",
     "text": [
      "57it [1:59:29, 48.16s/it]"
     ]
    },
    {
     "name": "stdout",
     "output_type": "stream",
     "text": [
      "57 documents\\questions\\T8_ans (1).pdf\n"
     ]
    },
    {
     "name": "stderr",
     "output_type": "stream",
     "text": [
      "58it [1:59:58, 42.52s/it]"
     ]
    },
    {
     "name": "stdout",
     "output_type": "stream",
     "text": [
      "58 documents\\questions\\T9_ans.pdf\n"
     ]
    },
    {
     "name": "stderr",
     "output_type": "stream",
     "text": [
      "59it [2:00:30, 39.32s/it]"
     ]
    },
    {
     "name": "stdout",
     "output_type": "stream",
     "text": [
      "59 documents\\questions_wo_answer\\ps1.pdf\n"
     ]
    },
    {
     "name": "stderr",
     "output_type": "stream",
     "text": [
      "60it [2:01:27, 44.66s/it]"
     ]
    },
    {
     "name": "stdout",
     "output_type": "stream",
     "text": [
      "60 documents\\questions_wo_answer\\ps2.pdf\n"
     ]
    },
    {
     "name": "stderr",
     "output_type": "stream",
     "text": [
      "61it [2:01:59, 40.69s/it]"
     ]
    },
    {
     "name": "stdout",
     "output_type": "stream",
     "text": [
      "61 documents\\questions_wo_answer\\ps3.pdf\n"
     ]
    },
    {
     "name": "stderr",
     "output_type": "stream",
     "text": [
      "62it [2:02:17, 33.92s/it]"
     ]
    },
    {
     "name": "stdout",
     "output_type": "stream",
     "text": [
      "62 documents\\questions_wo_answer\\ps4.pdf\n"
     ]
    },
    {
     "name": "stderr",
     "output_type": "stream",
     "text": [
      "63it [2:02:50, 33.84s/it]"
     ]
    },
    {
     "name": "stdout",
     "output_type": "stream",
     "text": [
      "63 documents\\questions_wo_answer\\ps5.pdf\n"
     ]
    },
    {
     "name": "stderr",
     "output_type": "stream",
     "text": [
      "64it [2:03:40, 38.54s/it]"
     ]
    },
    {
     "name": "stdout",
     "output_type": "stream",
     "text": [
      "64 documents\\questions_wo_answer\\ps6.pdf\n"
     ]
    },
    {
     "name": "stderr",
     "output_type": "stream",
     "text": [
      "65it [2:04:52, 48.72s/it]"
     ]
    },
    {
     "name": "stdout",
     "output_type": "stream",
     "text": [
      "65 documents\\questions_wo_answer\\ps8.pdf\n"
     ]
    },
    {
     "name": "stderr",
     "output_type": "stream",
     "text": [
      "66it [2:05:29, 114.08s/it]\n"
     ]
    }
   ],
   "source": [
    "text_splitter = RecursiveCharacterTextSplitter(chunk_size=1000, chunk_overlap=200)\n",
    "print(collection.count())\n",
    "# index documents (takes forever)\n",
    "# adapted from https://python.langchain.com/docs/modules/data_connection/document_loaders/pdf/#using-pypdf\n",
    "if collection.count() == 4832:\n",
    "    for i, hs_path in tqdm(enumerate(helpsheet_paths)):\n",
    "        print(i, hs_path)\n",
    "        if 'pdf' not in hs_path:\n",
    "            continue\n",
    "        if i<=26:\n",
    "            continue #to save time in debugging\n",
    "\n",
    "        # load document\n",
    "        loader = PyPDFLoader(hs_path)\n",
    "        docs = loader.load()\n",
    "        # split document into chunks\n",
    "        splits = text_splitter.split_documents(docs)\n",
    "        # unique ids for each chunk\n",
    "        ids = [f\"{i} - {j}\" for j in range(len(splits))]\n",
    "        # add chunks into chroma collection\n",
    "        collection.add(\n",
    "            ids=ids,\n",
    "            metadatas=[d.metadata for d in splits],\n",
    "            documents=[d.page_content for d in splits],\n",
    "        )"
   ]
  },
  {
   "cell_type": "code",
   "execution_count": null,
   "metadata": {},
   "outputs": [],
   "source": []
  },
  {
   "cell_type": "code",
   "execution_count": 112,
   "metadata": {},
   "outputs": [],
   "source": [
    "# initialise langchain vector store from chroma client\n",
    "# adapted from https://python.langchain.com/docs/integrations/vectorstores/chroma/#passing-a-chroma-client-into-langchain\n",
    "vectorstore = Chroma(\n",
    "    client=client,\n",
    "    collection_name=\"helpsheets\",\n",
    "    embedding_function=emb,\n",
    ")\n",
    "retriever = vectorstore.as_retriever()\n",
    "compressor = LLMChainExtractor.from_llm(llm)\n",
    "compression_retriever = ContextualCompressionRetriever(base_compressor=compressor, base_retriever=retriever)"
   ]
  },
  {
   "cell_type": "code",
   "execution_count": 166,
   "metadata": {},
   "outputs": [
    {
     "ename": "ValueError",
     "evalue": "Prompt must accept context as an input variable. Received prompt with input variables: ['chat_history', 'input']",
     "output_type": "error",
     "traceback": [
      "\u001b[1;31m---------------------------------------------------------------------------\u001b[0m",
      "\u001b[1;31mValueError\u001b[0m                                Traceback (most recent call last)",
      "Cell \u001b[1;32mIn[166], line 9\u001b[0m\n\u001b[0;32m      1\u001b[0m helper_prompt \u001b[38;5;241m=\u001b[39m \u001b[38;5;124m\"\u001b[39m\u001b[38;5;124mIdentify the possible key concepts in the following question. DO NOT answer it. Only return the highly relevant specific concepts in a list without title.\u001b[39m\u001b[38;5;124m\"\u001b[39m\n\u001b[0;32m      2\u001b[0m contextualize_helper_prompt \u001b[38;5;241m=\u001b[39m ChatPromptTemplate\u001b[38;5;241m.\u001b[39mfrom_messages(\n\u001b[0;32m      3\u001b[0m     [\n\u001b[0;32m      4\u001b[0m         (\u001b[38;5;124m\"\u001b[39m\u001b[38;5;124msystem\u001b[39m\u001b[38;5;124m\"\u001b[39m, helper_prompt),\n\u001b[1;32m   (...)\u001b[0m\n\u001b[0;32m      7\u001b[0m     ]\n\u001b[0;32m      8\u001b[0m )\n\u001b[1;32m----> 9\u001b[0m keyword_identifying_chain \u001b[38;5;241m=\u001b[39m \u001b[43mcreate_stuff_documents_chain\u001b[49m\u001b[43m(\u001b[49m\u001b[43mllm\u001b[49m\u001b[43m,\u001b[49m\u001b[43m \u001b[49m\u001b[43mcontextualize_helper_prompt\u001b[49m\u001b[43m)\u001b[49m\n",
      "File \u001b[1;32mc:\\Users\\lsq69.PC-20230731LVFT\\AppData\\Local\\Programs\\Python\\Python311\\Lib\\site-packages\\langchain\\chains\\combine_documents\\stuff.py:74\u001b[0m, in \u001b[0;36mcreate_stuff_documents_chain\u001b[1;34m(llm, prompt, output_parser, document_prompt, document_separator)\u001b[0m\n\u001b[0;32m     22\u001b[0m \u001b[38;5;28;01mdef\u001b[39;00m \u001b[38;5;21mcreate_stuff_documents_chain\u001b[39m(\n\u001b[0;32m     23\u001b[0m     llm: LanguageModelLike,\n\u001b[0;32m     24\u001b[0m     prompt: BasePromptTemplate,\n\u001b[1;32m   (...)\u001b[0m\n\u001b[0;32m     28\u001b[0m     document_separator: \u001b[38;5;28mstr\u001b[39m \u001b[38;5;241m=\u001b[39m DEFAULT_DOCUMENT_SEPARATOR,\n\u001b[0;32m     29\u001b[0m ) \u001b[38;5;241m-\u001b[39m\u001b[38;5;241m>\u001b[39m Runnable[Dict[\u001b[38;5;28mstr\u001b[39m, Any], Any]:\n\u001b[0;32m     30\u001b[0m \u001b[38;5;250m    \u001b[39m\u001b[38;5;124;03m\"\"\"Create a chain for passing a list of Documents to a model.\u001b[39;00m\n\u001b[0;32m     31\u001b[0m \n\u001b[0;32m     32\u001b[0m \u001b[38;5;124;03m    Args:\u001b[39;00m\n\u001b[1;32m   (...)\u001b[0m\n\u001b[0;32m     71\u001b[0m \u001b[38;5;124;03m            chain.invoke({\"context\": docs})\u001b[39;00m\n\u001b[0;32m     72\u001b[0m \u001b[38;5;124;03m    \"\"\"\u001b[39;00m  \u001b[38;5;66;03m# noqa: E501\u001b[39;00m\n\u001b[1;32m---> 74\u001b[0m     \u001b[43m_validate_prompt\u001b[49m\u001b[43m(\u001b[49m\u001b[43mprompt\u001b[49m\u001b[43m)\u001b[49m\n\u001b[0;32m     75\u001b[0m     _document_prompt \u001b[38;5;241m=\u001b[39m document_prompt \u001b[38;5;129;01mor\u001b[39;00m DEFAULT_DOCUMENT_PROMPT\n\u001b[0;32m     76\u001b[0m     _output_parser \u001b[38;5;241m=\u001b[39m output_parser \u001b[38;5;129;01mor\u001b[39;00m StrOutputParser()\n",
      "File \u001b[1;32mc:\\Users\\lsq69.PC-20230731LVFT\\AppData\\Local\\Programs\\Python\\Python311\\Lib\\site-packages\\langchain\\chains\\combine_documents\\base.py:26\u001b[0m, in \u001b[0;36m_validate_prompt\u001b[1;34m(prompt)\u001b[0m\n\u001b[0;32m     24\u001b[0m \u001b[38;5;28;01mdef\u001b[39;00m \u001b[38;5;21m_validate_prompt\u001b[39m(prompt: BasePromptTemplate) \u001b[38;5;241m-\u001b[39m\u001b[38;5;241m>\u001b[39m \u001b[38;5;28;01mNone\u001b[39;00m:\n\u001b[0;32m     25\u001b[0m     \u001b[38;5;28;01mif\u001b[39;00m DOCUMENTS_KEY \u001b[38;5;129;01mnot\u001b[39;00m \u001b[38;5;129;01min\u001b[39;00m prompt\u001b[38;5;241m.\u001b[39minput_variables:\n\u001b[1;32m---> 26\u001b[0m         \u001b[38;5;28;01mraise\u001b[39;00m \u001b[38;5;167;01mValueError\u001b[39;00m(\n\u001b[0;32m     27\u001b[0m             \u001b[38;5;124mf\u001b[39m\u001b[38;5;124m\"\u001b[39m\u001b[38;5;124mPrompt must accept \u001b[39m\u001b[38;5;132;01m{\u001b[39;00mDOCUMENTS_KEY\u001b[38;5;132;01m}\u001b[39;00m\u001b[38;5;124m as an input variable. Received prompt \u001b[39m\u001b[38;5;124m\"\u001b[39m\n\u001b[0;32m     28\u001b[0m             \u001b[38;5;124mf\u001b[39m\u001b[38;5;124m\"\u001b[39m\u001b[38;5;124mwith input variables: \u001b[39m\u001b[38;5;132;01m{\u001b[39;00mprompt\u001b[38;5;241m.\u001b[39minput_variables\u001b[38;5;132;01m}\u001b[39;00m\u001b[38;5;124m\"\u001b[39m\n\u001b[0;32m     29\u001b[0m         )\n",
      "\u001b[1;31mValueError\u001b[0m: Prompt must accept context as an input variable. Received prompt with input variables: ['chat_history', 'input']"
     ]
    }
   ],
   "source": [
    "#Ignore the cell\n",
    "helper_prompt = \"Identify the possible key concepts in the following question. DO NOT answer it. Only return the highly relevant specific concepts in a list without title.\"\n",
    "contextualize_helper_prompt = ChatPromptTemplate.from_messages(\n",
    "    [\n",
    "        (\"system\", helper_prompt),\n",
    "        (\"human\", \"{input}\"),\n",
    "    ]\n",
    ")\n",
    "keyword_identifying_chain = create_stuff_documents_chain(llm, contextualize_helper_prompt)"
   ]
  },
  {
   "cell_type": "code",
   "execution_count": 228,
   "metadata": {},
   "outputs": [],
   "source": [
    "# code for chat history (including next 2 code blocks)\n",
    "# adapted from https://python.langchain.com/docs/use_cases/question_answering/chat_history/\n",
    "contextualize_q_system_prompt = \"Given a chat history and the latest user question \\\n",
    "which might reference context in the chat history, \\\n",
    "pinpoint the specific key concepts mentioned in the latest user question. DO NOT answer it. Only return the highly relevant concepts as a list without title. \\\n",
    "Exclude general terms like 'data structure' or 'algorithms,' focusing instead on precise keywords such as 'QuickSort,' 'Heap,' or 'Binary Tree.' \\\n",
    "Do NOT retrieve irrelevant contexts or chat history.\"\n",
    "contextualize_q_prompt = ChatPromptTemplate.from_messages(\n",
    "    [\n",
    "        (\"system\", contextualize_q_system_prompt),\n",
    "        MessagesPlaceholder(\"chat_history\"),\n",
    "        (\"human\", \"{input}\"),\n",
    "    ]\n",
    ")\n",
    "history_aware_retriever = create_history_aware_retriever(\n",
    "    llm, compression_retriever, contextualize_q_prompt\n",
    ")"
   ]
  },
  {
   "cell_type": "code",
   "execution_count": 229,
   "metadata": {},
   "outputs": [],
   "source": [
    "qa_system_prompt = \"\"\"You are an computer science tutor for question-answering tasks. \\\n",
    "Use the following pieces of retrieved context to answer the question. \\\n",
    "If it's a question about definition, use five sentences maximum and keep the answer concise.\\\n",
    "If it's a problem-solving questions, DIVIDE your answer into clearly labelled 'hint' and 'solution' sections, answer in the format \"Hint: (your hints). Possible Solution: (Your Solution)\".\\\n",
    "DO NOT answer any questions in the context.\\\n",
    "You may use your own knowledge as well, but you need to state clearly which part is from your own knowledge. \\\n",
    "Do not mention \"the context\". \\\n",
    "If you don't know the answer or the question is NOT RELEVANT to Data Structure or Algorithms, just say this single sentence\"Hmm, this problem seems to be out of syllabus. Please further check with your tutor.\" Don't try to make up an answer. \\\n",
    "\n",
    "{context}\"\"\"\n",
    "qa_prompt = ChatPromptTemplate.from_messages(\n",
    "    [\n",
    "        (\"system\", qa_system_prompt),\n",
    "        MessagesPlaceholder(\"chat_history\"),\n",
    "        (\"human\", \"{input}\"),\n",
    "    ]\n",
    ")\n",
    "\n",
    "\n",
    "question_answer_chain = create_stuff_documents_chain(llm, qa_prompt)\n",
    "\n",
    "rag_chain = create_retrieval_chain(history_aware_retriever, question_answer_chain)"
   ]
  },
  {
   "cell_type": "code",
   "execution_count": 230,
   "metadata": {},
   "outputs": [],
   "source": [
    "### Statefully manage chat history ###\n",
    "store = {}\n",
    "\n",
    "\n",
    "def get_session_history(session_id: str) -> BaseChatMessageHistory:\n",
    "    if session_id not in store:\n",
    "        store[session_id] = ChatMessageHistory()\n",
    "    return store[session_id]\n",
    "\n",
    "\n",
    "conversational_rag_chain = RunnableWithMessageHistory(\n",
    "    rag_chain,\n",
    "    get_session_history,\n",
    "    input_messages_key=\"input\",\n",
    "    history_messages_key=\"chat_history\",\n",
    "    output_messages_key=\"answer\",\n",
    ")"
   ]
  },
  {
   "cell_type": "code",
   "execution_count": 231,
   "metadata": {},
   "outputs": [],
   "source": [
    "# streams llm output\n",
    "# adapted from https://python.langchain.com/docs/use_cases/question_answering/streaming/\n",
    "def query_and_print(input: str, session_id=\"abc123\"):\n",
    "    for chunk in conversational_rag_chain.stream(\n",
    "        {\"input\": input},\n",
    "        config={\n",
    "            \"configurable\": {\"session_id\": session_id}\n",
    "        },  # constructs a key \"abc123\" in `store`.\n",
    "    ):\n",
    "        if \"answer\" in chunk:\n",
    "            print(chunk[\"answer\"], end=\"\")\n",
    "        else:\n",
    "            print(chunk)"
   ]
  },
  {
   "cell_type": "code",
   "execution_count": 232,
   "metadata": {},
   "outputs": [
    {
     "name": "stdout",
     "output_type": "stream",
     "text": [
      "{'input': 'Could you provide a definition of HashMap?'}\n",
      "{'chat_history': []}\n"
     ]
    },
    {
     "name": "stderr",
     "output_type": "stream",
     "text": [
      "c:\\Users\\lsq69.PC-20230731LVFT\\AppData\\Local\\Programs\\Python\\Python311\\Lib\\site-packages\\langchain\\chains\\llm.py:316: UserWarning: The predict_and_parse method is deprecated, instead pass an output parser directly to LLMChain.\n",
      "  warnings.warn(\n",
      "c:\\Users\\lsq69.PC-20230731LVFT\\AppData\\Local\\Programs\\Python\\Python311\\Lib\\site-packages\\langchain\\chains\\llm.py:316: UserWarning: The predict_and_parse method is deprecated, instead pass an output parser directly to LLMChain.\n",
      "  warnings.warn(\n",
      "c:\\Users\\lsq69.PC-20230731LVFT\\AppData\\Local\\Programs\\Python\\Python311\\Lib\\site-packages\\langchain\\chains\\llm.py:316: UserWarning: The predict_and_parse method is deprecated, instead pass an output parser directly to LLMChain.\n",
      "  warnings.warn(\n",
      "c:\\Users\\lsq69.PC-20230731LVFT\\AppData\\Local\\Programs\\Python\\Python311\\Lib\\site-packages\\langchain\\chains\\llm.py:316: UserWarning: The predict_and_parse method is deprecated, instead pass an output parser directly to LLMChain.\n",
      "  warnings.warn(\n"
     ]
    },
    {
     "name": "stdout",
     "output_type": "stream",
     "text": [
      "{'context': [Document(page_content='The relevant parts of the context are:\\n\\n* \"Every 32-bit integer gets a unique hash code.\"\\n* \"Note: hashcode is always a 32-bit integer.\"\\n\\nThese parts of the context are relevant to the question because they provide information about the type of hash code used in the program and its size, which is important for understanding how hash tables work.', metadata={'page': 72, 'source': 'documents\\\\LN\\\\15.Hashing2.pdf'}), Document(page_content='NO_OUTPUT. The question is asking for a definition of HashMap, and the context provided does not contain any information related to HashMap or its definition.', metadata={'page': 89, 'source': 'documents\\\\LN\\\\01.Introduction.pdf'}), Document(page_content='The relevant part of the context for answering the question \"Could you provide a definition of HashMap?\" is:\\n\\n* \"What is a graph?\"', metadata={'page': 60, 'source': 'documents\\\\LN\\\\17.Hashing4GraphsIntro.pdf'}), Document(page_content='The following part of the context is relevant to answer the question:\\n\\n\"Why don’t we just insert each key into a random bucket (instead of using h)? Searching would be very slow. How do you find the item?\"\\n\\nThis part explains why using a hash table (such as HashMap) can provide faster search times compared to searching a list or array, and highlights the importance of using a good hashing function (represented by \"h\" in the context) to ensure efficient searching.', metadata={'page': 15, 'source': 'documents\\\\LN\\\\15.Hashing2.pdf'})]}\n",
      "Of course! A HashMap is a data structure that stores key-value pairs in an array, where each key is associated with a specific index in the array. The hash code of a key is used to determine which index the corresponding value should be stored at. The size of the array is fixed and is typically chosen to be a power of 2 for performance reasons. This allows for efficient searching of values based on their keys, as the hash code can quickly locate the appropriate index in the array."
     ]
    }
   ],
   "source": [
    "query_and_print(\"Could you provide a definition of HashMap?\")"
   ]
  },
  {
   "cell_type": "code",
   "execution_count": 233,
   "metadata": {},
   "outputs": [
    {
     "name": "stdout",
     "output_type": "stream",
     "text": [
      "{'input': 'Could you solve this problem? Given an integer array nums sorted in non-decreasing order, remove some duplicates in-place such that each unique element appears at most twice. The relative order of the elements should be kept the same. Since it is impossible to change the length of the array in some languages, you must instead have the result be placed in the first part of the array nums. More formally, if there are k elements after removing the duplicates, then the first k elements of nums should hold the final result. It does not matter what you leave beyond the first k elements. Return k after placing the final result in the first k slots of nums.Do not allocate extra space for another array. You must do this by modifying the input array in-place with O(1) extra memory'}\n",
      "{'chat_history': [HumanMessage(content='Could you provide a definition of HashMap?'), AIMessage(content='Of course! A HashMap is a data structure that stores key-value pairs in an array, where each key is associated with a specific index in the array. The hash code of a key is used to determine which index the corresponding value should be stored at. The size of the array is fixed and is typically chosen to be a power of 2 for performance reasons. This allows for efficient searching of values based on their keys, as the hash code can quickly locate the appropriate index in the array.')]}\n"
     ]
    },
    {
     "name": "stderr",
     "output_type": "stream",
     "text": [
      "c:\\Users\\lsq69.PC-20230731LVFT\\AppData\\Local\\Programs\\Python\\Python311\\Lib\\site-packages\\langchain\\chains\\llm.py:316: UserWarning: The predict_and_parse method is deprecated, instead pass an output parser directly to LLMChain.\n",
      "  warnings.warn(\n",
      "c:\\Users\\lsq69.PC-20230731LVFT\\AppData\\Local\\Programs\\Python\\Python311\\Lib\\site-packages\\langchain\\chains\\llm.py:316: UserWarning: The predict_and_parse method is deprecated, instead pass an output parser directly to LLMChain.\n",
      "  warnings.warn(\n",
      "c:\\Users\\lsq69.PC-20230731LVFT\\AppData\\Local\\Programs\\Python\\Python311\\Lib\\site-packages\\langchain\\chains\\llm.py:316: UserWarning: The predict_and_parse method is deprecated, instead pass an output parser directly to LLMChain.\n",
      "  warnings.warn(\n",
      "c:\\Users\\lsq69.PC-20230731LVFT\\AppData\\Local\\Programs\\Python\\Python311\\Lib\\site-packages\\langchain\\chains\\llm.py:316: UserWarning: The predict_and_parse method is deprecated, instead pass an output parser directly to LLMChain.\n",
      "  warnings.warn(\n"
     ]
    },
    {
     "name": "stdout",
     "output_type": "stream",
     "text": [
      "{'context': [Document(page_content='The relevant parts of the context for answering the question are:\\n\\n* \"in-place modification\"\\n* \"O(1) extra memory\"\\n\\nThese two phrases are mentioned in the question and suggest that the algorithm being discussed is designed to modify a data structure in place, without requiring additional memory beyond what is already stored in the structure.', metadata={'page': 1309, 'source': 'documents\\\\Introduction.to.Algorithms.4th.Leiserson.Stein.Rivest.Cormen.MIT.Press.9780262046305.EBooksWorld.ir.pdf'}), Document(page_content='NO OUTPUT. The given context does not contain any relevant information to answer the question.', metadata={'page': 1302, 'source': 'documents\\\\Introduction.to.Algorithms.4th.Leiserson.Stein.Rivest.Cormen.MIT.Press.9780262046305.EBooksWorld.ir.pdf'}), Document(page_content='The following parts of the context are relevant to answering the question:\\n\\n* The use of a `HashMap` to store points.\\n* The use of a `Radix sort` to sort the points by their `y`-coordinate.\\n* The need to insert new points into the `HashMap` in-place, without allocating any additional memory.\\n* The requirement that the algorithm should have a time complexity of O(1) extra memory.', metadata={'page': 20, 'source': 'documents\\\\questions\\\\CS2040S_2020_2021_Sem1_midterm_ans.pdf'}), Document(page_content='* In-place modification (mentioned in the context as \"in-place modification\")\\n* O(1) extra memory (mentioned in the context as \"O(1) extra memory\")', metadata={'page': 1296, 'source': 'documents\\\\Introduction.to.Algorithms.4th.Leiserson.Stein.Rivest.Cormen.MIT.Press.9780262046305.EBooksWorld.ir.pdf'})]}\n",
      "Hmm, this problem seems to be out of syllabus. Please further check with your tutor. The question is asking for a solution to remove duplicates from an integer array in-place, without allocating any additional memory beyond what is already stored in the array. This is not a standard problem in data structures or algorithms, and the requirements given do not allow for a straightforward solution."
     ]
    }
   ],
   "source": [
    "query_and_print(\"Could you solve this problem? Given an integer array nums sorted in non-decreasing order, remove some duplicates in-place such that each unique element appears at most twice. The relative order of the elements should be kept the same. Since it is impossible to change the length of the array in some languages, you must instead have the result be placed in the first part of the array nums. More formally, if there are k elements after removing the duplicates, then the first k elements of nums should hold the final result. It does not matter what you leave beyond the first k elements. Return k after placing the final result in the first k slots of nums.Do not allocate extra space for another array. You must do this by modifying the input array in-place with O(1) extra memory\")"
   ]
  },
  {
   "cell_type": "code",
   "execution_count": 234,
   "metadata": {},
   "outputs": [
    {
     "name": "stdout",
     "output_type": "stream",
     "text": [
      "{'input': 'What is HashMap?'}\n",
      "{'chat_history': [HumanMessage(content='Could you provide a definition of HashMap?'), AIMessage(content='Of course! A HashMap is a data structure that stores key-value pairs in an array, where each key is associated with a specific index in the array. The hash code of a key is used to determine which index the corresponding value should be stored at. The size of the array is fixed and is typically chosen to be a power of 2 for performance reasons. This allows for efficient searching of values based on their keys, as the hash code can quickly locate the appropriate index in the array.'), HumanMessage(content='Could you solve this problem? Given an integer array nums sorted in non-decreasing order, remove some duplicates in-place such that each unique element appears at most twice. The relative order of the elements should be kept the same. Since it is impossible to change the length of the array in some languages, you must instead have the result be placed in the first part of the array nums. More formally, if there are k elements after removing the duplicates, then the first k elements of nums should hold the final result. It does not matter what you leave beyond the first k elements. Return k after placing the final result in the first k slots of nums.Do not allocate extra space for another array. You must do this by modifying the input array in-place with O(1) extra memory'), AIMessage(content='Hmm, this problem seems to be out of syllabus. Please further check with your tutor. The question is asking for a solution to remove duplicates from an integer array in-place, without allocating any additional memory beyond what is already stored in the array. This is not a standard problem in data structures or algorithms, and the requirements given do not allow for a straightforward solution.')]}\n"
     ]
    },
    {
     "name": "stderr",
     "output_type": "stream",
     "text": [
      "c:\\Users\\lsq69.PC-20230731LVFT\\AppData\\Local\\Programs\\Python\\Python311\\Lib\\site-packages\\langchain\\chains\\llm.py:316: UserWarning: The predict_and_parse method is deprecated, instead pass an output parser directly to LLMChain.\n",
      "  warnings.warn(\n",
      "c:\\Users\\lsq69.PC-20230731LVFT\\AppData\\Local\\Programs\\Python\\Python311\\Lib\\site-packages\\langchain\\chains\\llm.py:316: UserWarning: The predict_and_parse method is deprecated, instead pass an output parser directly to LLMChain.\n",
      "  warnings.warn(\n",
      "c:\\Users\\lsq69.PC-20230731LVFT\\AppData\\Local\\Programs\\Python\\Python311\\Lib\\site-packages\\langchain\\chains\\llm.py:316: UserWarning: The predict_and_parse method is deprecated, instead pass an output parser directly to LLMChain.\n",
      "  warnings.warn(\n",
      "c:\\Users\\lsq69.PC-20230731LVFT\\AppData\\Local\\Programs\\Python\\Python311\\Lib\\site-packages\\langchain\\chains\\llm.py:316: UserWarning: The predict_and_parse method is deprecated, instead pass an output parser directly to LLMChain.\n",
      "  warnings.warn(\n"
     ]
    },
    {
     "name": "stdout",
     "output_type": "stream",
     "text": [
      "{'context': [Document(page_content='The relevant parts of the context are:\\n\\n* `HashMap`: This is mentioned in the question as a data structure that can be used for in-place modification.\\n* `Non-decreasing order`: This is also mentioned in the question as a requirement for the algorithm to satisfy.\\n* `Tarjan’s ofüine lowest-common-ancestors algorithm`: This is mentioned in the context as a task parallelism algorithm that can be used to solve the problem.', metadata={'page': 1309, 'source': 'documents\\\\Introduction.to.Algorithms.4th.Leiserson.Stein.Rivest.Cormen.MIT.Press.9780262046305.EBooksWorld.ir.pdf'}), Document(page_content='The following parts of the context are relevant to the question:\\n\\n* \"Data structure\" - Relevant because a HashMap is a type of data structure.\\n* \"Hash code\" - Relevant because a hash code is used in the context of a HashMap.\\n* \"Non-decreasing order\" - Relevant because a HashMap is a non-decreasing ordered data structure.\\n* \"In-place modification\" - Relevant because a HashMap allows for in-place modification of its elements.\\n* \"O(1) extra memory\" - Relevant because the context mentions that the HashMap requires O(1) extra memory, which is an important property of the data structure.', metadata={'page': 1286, 'source': 'documents\\\\Introduction.to.Algorithms.4th.Leiserson.Stein.Rivest.Cormen.MIT.Press.9780262046305.EBooksWorld.ir.pdf'}), Document(page_content='The following parts of the context are relevant to the question:\\n\\n1. `minimum spanning tree`\\n2. `minimum weight spanning tree`\\n3. `modular arithmetic`\\n4. `MODULAR-EXPONENTIATION`\\n5. `MONGE ARRAY`\\n6. `MST-KRUSKAL`\\n7. `MST-P RIM`\\n\\nThese parts are relevant because they are mentioned in the question or in the context of the question.', metadata={'page': 1296, 'source': 'documents\\\\Introduction.to.Algorithms.4th.Leiserson.Stein.Rivest.Cormen.MIT.Press.9780262046305.EBooksWorld.ir.pdf'}), Document(page_content='The following parts of the context are relevant to the question:\\n\\n1. Data structure: The question mentions \"data structure\" in general, but does not provide any more specific information. However, since the question mentions \"HashMap\" and \"array\", it is likely that the context is related to these data structures.\\n2. Hash code: The question mentions \"hash code\", which is a key concept in computing the index of an element in a data structure like a HashMap or an array.\\n3. Index: The question mentions \"index\" in the context of a decision tree, heap, and node in a tree. This suggests that the question may be related to indexing or locating elements in a data structure.\\n4. Non-decreasing order: The question mentions \"non-decreasing order\", which is a property of some data structures like heaps and trees.\\n5. In-place modification: The question mentions \"in-place modification\", which is a characteristic of some data structures like arrays.\\n6. O(1) extra memory: The question mentions \"O(1) extra memory\", which is a property of some data structures like hash tables that allow for efficient lookups and modifications with minimal additional memory usage.', metadata={'page': 1289, 'source': 'documents\\\\Introduction.to.Algorithms.4th.Leiserson.Stein.Rivest.Cormen.MIT.Press.9780262046305.EBooksWorld.ir.pdf'})]}\n",
      "A HashMap is a data structure that stores key-value pairs in an array, where each key is associated with a specific index in the array. The size of the array is fixed and is typically chosen to be a power of 2 for performance reasons. This allows for efficient searching of values based on their keys, as the hash code can quickly locate the appropriate index in the array. In-place modification is also possible in a HashMap, which means that the elements in the array can be modified without allocating additional memory."
     ]
    }
   ],
   "source": [
    "query_and_print(\"What is HashMap?\")"
   ]
  },
  {
   "cell_type": "code",
   "execution_count": 235,
   "metadata": {},
   "outputs": [
    {
     "name": "stdout",
     "output_type": "stream",
     "text": [
      "{'input': 'What is MCT?'}\n",
      "{'chat_history': [HumanMessage(content='Could you provide a definition of HashMap?'), AIMessage(content='Of course! A HashMap is a data structure that stores key-value pairs in an array, where each key is associated with a specific index in the array. The hash code of a key is used to determine which index the corresponding value should be stored at. The size of the array is fixed and is typically chosen to be a power of 2 for performance reasons. This allows for efficient searching of values based on their keys, as the hash code can quickly locate the appropriate index in the array.'), HumanMessage(content='Could you solve this problem? Given an integer array nums sorted in non-decreasing order, remove some duplicates in-place such that each unique element appears at most twice. The relative order of the elements should be kept the same. Since it is impossible to change the length of the array in some languages, you must instead have the result be placed in the first part of the array nums. More formally, if there are k elements after removing the duplicates, then the first k elements of nums should hold the final result. It does not matter what you leave beyond the first k elements. Return k after placing the final result in the first k slots of nums.Do not allocate extra space for another array. You must do this by modifying the input array in-place with O(1) extra memory'), AIMessage(content='Hmm, this problem seems to be out of syllabus. Please further check with your tutor. The question is asking for a solution to remove duplicates from an integer array in-place, without allocating any additional memory beyond what is already stored in the array. This is not a standard problem in data structures or algorithms, and the requirements given do not allow for a straightforward solution.'), HumanMessage(content='What is HashMap?'), AIMessage(content='A HashMap is a data structure that stores key-value pairs in an array, where each key is associated with a specific index in the array. The size of the array is fixed and is typically chosen to be a power of 2 for performance reasons. This allows for efficient searching of values based on their keys, as the hash code can quickly locate the appropriate index in the array. In-place modification is also possible in a HashMap, which means that the elements in the array can be modified without allocating additional memory.')]}\n"
     ]
    },
    {
     "name": "stderr",
     "output_type": "stream",
     "text": [
      "c:\\Users\\lsq69.PC-20230731LVFT\\AppData\\Local\\Programs\\Python\\Python311\\Lib\\site-packages\\langchain\\chains\\llm.py:316: UserWarning: The predict_and_parse method is deprecated, instead pass an output parser directly to LLMChain.\n",
      "  warnings.warn(\n",
      "c:\\Users\\lsq69.PC-20230731LVFT\\AppData\\Local\\Programs\\Python\\Python311\\Lib\\site-packages\\langchain\\chains\\llm.py:316: UserWarning: The predict_and_parse method is deprecated, instead pass an output parser directly to LLMChain.\n",
      "  warnings.warn(\n",
      "c:\\Users\\lsq69.PC-20230731LVFT\\AppData\\Local\\Programs\\Python\\Python311\\Lib\\site-packages\\langchain\\chains\\llm.py:316: UserWarning: The predict_and_parse method is deprecated, instead pass an output parser directly to LLMChain.\n",
      "  warnings.warn(\n",
      "c:\\Users\\lsq69.PC-20230731LVFT\\AppData\\Local\\Programs\\Python\\Python311\\Lib\\site-packages\\langchain\\chains\\llm.py:316: UserWarning: The predict_and_parse method is deprecated, instead pass an output parser directly to LLMChain.\n",
      "  warnings.warn(\n"
     ]
    },
    {
     "name": "stdout",
     "output_type": "stream",
     "text": [
      "{'context': [Document(page_content='The relevant parts of the context that are relevant to answer the question are:\\n\\n* The three implementation options for inserting an element into a data structure: (1) Sorted array-insert, which takes O(n) time for search and O(log n) time for insertion; (2) Unsorted array-insert, which takes O(1) time for search and O(n) time for insertion; and (3) Linked list-insert, which takes O(1) time for search and O(n) time for insertion.\\n\\nTherefore, the answer to the question is:\\n\\nOption 2: Unsorted array-insert.', metadata={'page': 60, 'source': 'documents\\\\LN\\\\08.Trees.pdf'}), Document(page_content='The relevant parts of the context that are relevant to answer the question are:\\n\\n* Data structure: HashMap\\n* In-place modification\\n* Array\\n\\nThese parts are relevant because they relate to the specific question being asked, which is about modifying a data structure in place.', metadata={'page': 1, 'source': 'documents\\\\LN\\\\07.SortingC.QuickSort.pdf'}), Document(page_content='The following parts of the context are relevant to answer the question:\\n\\n* \"in-place modification\"\\n* \"data structure\"\\n* \"array\"\\n* \"B-tree\"\\n* \"binary search tree\"\\n* \"heap\"\\n* \"interval tree\"\\n* \"linked list\"\\n* \"open-address hash table\"\\n* \"red-black tree\"\\n* \"stack\"\\n* \"propositional logic\"\\n* \"set\"\\n* \"dense graph\"\\n* \"density of prime numbers\"\\n* \"rod\"\\n* \"dependence and indicator random variables\"', metadata={'page': 1281, 'source': 'documents\\\\Introduction.to.Algorithms.4th.Leiserson.Stein.Rivest.Cormen.MIT.Press.9780262046305.EBooksWorld.ir.pdf'}), Document(page_content='The following parts of the context are relevant to answer the question:\\n\\n* `HashMap`: This is mentioned in the context as a data structure that can be modified in-place.\\n* `in-place modification`: This is also mentioned in the context, indicating that the user is interested in algorithms that modify data structures in-place.\\n* `data structure`: This term appears in the context, suggesting that the user is looking for algorithms that operate on specific types of data structures.', metadata={'page': 1291, 'source': 'documents\\\\Introduction.to.Algorithms.4th.Leiserson.Stein.Rivest.Cormen.MIT.Press.9780262046305.EBooksWorld.ir.pdf'})]}\n",
      "Great! I'm here to help you with your questions.\n",
      "\n",
      "To answer your first question, the definition of a HashMap is as follows:\n",
      "\n",
      "A HashMap is a data structure that stores key-value pairs in an array, where each key is associated with a specific index in the array. The size of the array is fixed and is typically chosen to be a power of 2 for performance reasons. This allows for efficient searching of values based on their keys, as the hash code can quickly locate the appropriate index in the array. In-place modification is also possible in a HashMap, which means that the elements in the array can be modified without allocating additional memory.\n",
      "\n",
      "Regarding your second question, MCT (Memory Consumption Tax) is not a term used in computer science or data structures. It's possible that you may have come across this term in a different context, but it's not a widely recognized concept in the field of computer science.\n",
      "\n",
      "For your third question, I'll assume that you're asking about the problem you described in your question. In this case, the solution to remove duplicates from an integer array in-place without allocating any additional memory beyond what is already stored in the array is not a straightforward one. One possible approach could be to use a two-pass algorithm:\n",
      "\n",
      "1. Find all unique elements in the array by iterating over each element and checking if it's the only instance of that value in the array. If it is, then mark it as unique.\n",
      "2. After finding all the unique elements, remove them from the array by shifting the remaining elements over by one index. This will leave behind any duplicate elements.\n",
      "\n",
      "The time complexity of this algorithm would be O(n), where n is the length of the array, since we're iterating over the entire array twice. However, the space complexity would be O(1) since we're not allocating any additional memory beyond what's already stored in the array.\n",
      "\n",
      "I hope that helps! Let me know if you have any more questions."
     ]
    }
   ],
   "source": [
    "query_and_print(\"What is MCT?\")"
   ]
  },
  {
   "cell_type": "code",
   "execution_count": 236,
   "metadata": {},
   "outputs": [
    {
     "name": "stdout",
     "output_type": "stream",
     "text": [
      "{'input': 'Given an integer array nums, return all the triplets [nums[i], nums[j], nums[k]] such that i != j, i != k, and j != k, and nums[i] + nums[j] + nums[k] == 0. Notice that the solution set must not contain duplicate triplets.'}\n",
      "{'chat_history': [HumanMessage(content='Could you provide a definition of HashMap?'), AIMessage(content='Of course! A HashMap is a data structure that stores key-value pairs in an array, where each key is associated with a specific index in the array. The hash code of a key is used to determine which index the corresponding value should be stored at. The size of the array is fixed and is typically chosen to be a power of 2 for performance reasons. This allows for efficient searching of values based on their keys, as the hash code can quickly locate the appropriate index in the array.'), HumanMessage(content='Could you solve this problem? Given an integer array nums sorted in non-decreasing order, remove some duplicates in-place such that each unique element appears at most twice. The relative order of the elements should be kept the same. Since it is impossible to change the length of the array in some languages, you must instead have the result be placed in the first part of the array nums. More formally, if there are k elements after removing the duplicates, then the first k elements of nums should hold the final result. It does not matter what you leave beyond the first k elements. Return k after placing the final result in the first k slots of nums.Do not allocate extra space for another array. You must do this by modifying the input array in-place with O(1) extra memory'), AIMessage(content='Hmm, this problem seems to be out of syllabus. Please further check with your tutor. The question is asking for a solution to remove duplicates from an integer array in-place, without allocating any additional memory beyond what is already stored in the array. This is not a standard problem in data structures or algorithms, and the requirements given do not allow for a straightforward solution.'), HumanMessage(content='What is HashMap?'), AIMessage(content='A HashMap is a data structure that stores key-value pairs in an array, where each key is associated with a specific index in the array. The size of the array is fixed and is typically chosen to be a power of 2 for performance reasons. This allows for efficient searching of values based on their keys, as the hash code can quickly locate the appropriate index in the array. In-place modification is also possible in a HashMap, which means that the elements in the array can be modified without allocating additional memory.'), HumanMessage(content='What is MCT?'), AIMessage(content=\"Great! I'm here to help you with your questions.\\n\\nTo answer your first question, the definition of a HashMap is as follows:\\n\\nA HashMap is a data structure that stores key-value pairs in an array, where each key is associated with a specific index in the array. The size of the array is fixed and is typically chosen to be a power of 2 for performance reasons. This allows for efficient searching of values based on their keys, as the hash code can quickly locate the appropriate index in the array. In-place modification is also possible in a HashMap, which means that the elements in the array can be modified without allocating additional memory.\\n\\nRegarding your second question, MCT (Memory Consumption Tax) is not a term used in computer science or data structures. It's possible that you may have come across this term in a different context, but it's not a widely recognized concept in the field of computer science.\\n\\nFor your third question, I'll assume that you're asking about the problem you described in your question. In this case, the solution to remove duplicates from an integer array in-place without allocating any additional memory beyond what is already stored in the array is not a straightforward one. One possible approach could be to use a two-pass algorithm:\\n\\n1. Find all unique elements in the array by iterating over each element and checking if it's the only instance of that value in the array. If it is, then mark it as unique.\\n2. After finding all the unique elements, remove them from the array by shifting the remaining elements over by one index. This will leave behind any duplicate elements.\\n\\nThe time complexity of this algorithm would be O(n), where n is the length of the array, since we're iterating over the entire array twice. However, the space complexity would be O(1) since we're not allocating any additional memory beyond what's already stored in the array.\\n\\nI hope that helps! Let me know if you have any more questions.\")]}\n"
     ]
    },
    {
     "name": "stderr",
     "output_type": "stream",
     "text": [
      "c:\\Users\\lsq69.PC-20230731LVFT\\AppData\\Local\\Programs\\Python\\Python311\\Lib\\site-packages\\langchain\\chains\\llm.py:316: UserWarning: The predict_and_parse method is deprecated, instead pass an output parser directly to LLMChain.\n",
      "  warnings.warn(\n",
      "c:\\Users\\lsq69.PC-20230731LVFT\\AppData\\Local\\Programs\\Python\\Python311\\Lib\\site-packages\\langchain\\chains\\llm.py:316: UserWarning: The predict_and_parse method is deprecated, instead pass an output parser directly to LLMChain.\n",
      "  warnings.warn(\n",
      "c:\\Users\\lsq69.PC-20230731LVFT\\AppData\\Local\\Programs\\Python\\Python311\\Lib\\site-packages\\langchain\\chains\\llm.py:316: UserWarning: The predict_and_parse method is deprecated, instead pass an output parser directly to LLMChain.\n",
      "  warnings.warn(\n",
      "c:\\Users\\lsq69.PC-20230731LVFT\\AppData\\Local\\Programs\\Python\\Python311\\Lib\\site-packages\\langchain\\chains\\llm.py:316: UserWarning: The predict_and_parse method is deprecated, instead pass an output parser directly to LLMChain.\n",
      "  warnings.warn(\n"
     ]
    },
    {
     "name": "stdout",
     "output_type": "stream",
     "text": [
      "{'context': [Document(page_content='The following parts of the context are relevant to answer the question:\\n\\n* The problem statements mentioning the algorithms to be tested (SorterA, SorterB, SorterC, and SorterD) and their properties (unique elements, duplicates, array size, time complexity, space complexity).\\n* The request for evidence to prove the identity of each sorter.', metadata={'page': 2, 'source': 'documents\\\\questions_wo_answer\\\\ps3.pdf'}), Document(page_content='The relevant parts of the context that are relevant to answer the question are:\\n\\n* Resize takes too long to find items to copy.\\n* Inserting, deleting, and searching are more expensive in a big table.', metadata={'page': 35, 'source': 'documents\\\\LN\\\\16.Hashing3.pdf'}), Document(page_content='The relevant parts of the context that are relevant to answering the question are:\\n\\n* The data structure being used is an array.\\n* The size of the array is 1531.\\n* The array contains unique elements.\\n* There are duplicates in the array.\\n* The time complexity of the algorithm is not specified.\\n* The space complexity of the algorithm is not specified.', metadata={'page': 88, 'source': 'documents\\\\LN\\\\23.DynamicProgramming2.pdf'}), Document(page_content='The relevant parts of the context that are relevant to answer the question are:\\n\\n* The data structure being used is an array.\\n* The array contains unique elements.\\n* The array has a size of 1531.\\n* The time complexity for in-place modification of the array is O(n).\\n* The space complexity is O(1) since no additional memory is required.', metadata={'page': 90, 'source': 'documents\\\\LN\\\\23.DynamicProgramming2.pdf'})]}\n",
      "Great! I'm here to help you with your questions.\n",
      "\n",
      "For your first question, a HashMap is a data structure that stores key-value pairs in an array, where each key is associated with a specific index in the array. The size of the array is fixed and is typically chosen to be a power of 2 for performance reasons. This allows for efficient searching of values based on their keys, as the hash code can quickly locate the appropriate index in the array. In-place modification is also possible in a HashMap, which means that the elements in the array can be modified without allocating additional memory.\n",
      "\n",
      "For your second question, MCT (Memory Consumption Tax) is not a term used in computer science or data structures. It's possible that you may have come across this term in a different context, but it's not a widely recognized concept in the field of computer science.\n",
      "\n",
      "Now, let's move on to your third question. Given an integer array `nums`, return all the triplets `[nums[i], nums[j], nums[k]]` such that `i != j`, `i != k`, and `j != k`, and `nums[i] + nums[j] + nums[k]` is equal to 0. Notice that the solution set must not contain duplicate triplets.\n",
      "\n",
      "One possible approach to solve this problem is to use a two-pass algorithm:\n",
      "\n",
      "1. Find all unique elements in the array by iterating over each element and checking if it's the only instance of that value in the array. If it is, then mark it as unique.\n",
      "2. After finding all the unique elements, remove them from the array by shifting the remaining elements over by one index. This will leave behind any duplicate elements.\n",
      "\n",
      "The time complexity of this algorithm would be O(n), where `n` is the length of the array, since we're iterating over the entire array twice. However, the space complexity would be O(1) since we're not allocating any additional memory beyond what's already stored in the array.\n",
      "\n",
      "I hope that helps! Let me know if you have any more questions."
     ]
    }
   ],
   "source": [
    "query_and_print(\"Given an integer array nums, return all the triplets [nums[i], nums[j], nums[k]] such that i != j, i != k, and j != k, and nums[i] + nums[j] + nums[k] == 0. Notice that the solution set must not contain duplicate triplets.\")"
   ]
  },
  {
   "cell_type": "code",
   "execution_count": 27,
   "metadata": {},
   "outputs": [],
   "source": [
    "store.clear()"
   ]
  }
 ],
 "metadata": {
  "kernelspec": {
   "display_name": "Python 3 (ipykernel)",
   "language": "python",
   "name": "python3"
  },
  "language_info": {
   "codemirror_mode": {
    "name": "ipython",
    "version": 3
   },
   "file_extension": ".py",
   "mimetype": "text/x-python",
   "name": "python",
   "nbconvert_exporter": "python",
   "pygments_lexer": "ipython3",
   "version": "3.11.4"
  }
 },
 "nbformat": 4,
 "nbformat_minor": 2
}
