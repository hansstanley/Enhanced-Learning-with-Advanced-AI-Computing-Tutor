{
 "cells": [
  {
   "cell_type": "code",
   "execution_count": 12,
   "metadata": {},
   "outputs": [],
   "source": [
    "import os\n",
    "import chromadb\n",
    "from tqdm import tqdm\n",
    "from langchain_community.chat_models import ChatOllama\n",
    "from langchain_community.document_loaders import PyPDFLoader\n",
    "from langchain_community.embeddings import OllamaEmbeddings\n",
    "from langchain_community.vectorstores import Chroma\n",
    "from langchain_community.chat_message_histories import ChatMessageHistory\n",
    "from langchain_text_splitters import RecursiveCharacterTextSplitter\n",
    "from langchain_core.runnables.history import RunnableWithMessageHistory\n",
    "from langchain_core.prompts import ChatPromptTemplate, MessagesPlaceholder\n",
    "from langchain_core.chat_history import BaseChatMessageHistory\n",
    "from langchain.chains import create_retrieval_chain, create_history_aware_retriever\n",
    "from langchain.chains.combine_documents import create_stuff_documents_chain"
   ]
  },
  {
   "cell_type": "code",
   "execution_count": 13,
   "metadata": {},
   "outputs": [],
   "source": [
    "llm = ChatOllama(model=\"llama2:7b\")\n",
    "emb = OllamaEmbeddings(model=\"llama2:7b\")"
   ]
  },
  {
   "cell_type": "code",
   "execution_count": 14,
   "metadata": {},
   "outputs": [
    {
     "data": {
      "text/plain": [
       "AIMessage(content='Hello there! * waves * How are you today?', response_metadata={'model': 'llama2:7b', 'created_at': '2024-04-10T03:49:10.156873Z', 'message': {'role': 'assistant', 'content': ''}, 'done': True, 'total_duration': 1118669292, 'load_duration': 2188959, 'prompt_eval_duration': 257229000, 'eval_count': 12, 'eval_duration': 857954000}, id='run-a80a9db9-e5d0-4e7b-b177-2b1f63632dc0-0')"
      ]
     },
     "execution_count": 14,
     "metadata": {},
     "output_type": "execute_result"
    }
   ],
   "source": [
    "llm.invoke(\"Hello world!\")"
   ]
  },
  {
   "cell_type": "code",
   "execution_count": 15,
   "metadata": {},
   "outputs": [],
   "source": [
    "class OllamaEmbeddingFn(chromadb.EmbeddingFunction):\n",
    "    def __call__(self, input: chromadb.Documents) -> chromadb.Embeddings:\n",
    "        return emb.embed_documents(input)"
   ]
  },
  {
   "cell_type": "code",
   "execution_count": 16,
   "metadata": {},
   "outputs": [],
   "source": [
    "# initialise chroma collection\n",
    "# adapted from https://docs.trychroma.com/usage-guide#using-collections\n",
    "client = chromadb.PersistentClient(path=\"documents/chroma_db\")\n",
    "collection = client.get_or_create_collection(\n",
    "    name=\"helpsheets\", embedding_function=OllamaEmbeddingFn()\n",
    ")"
   ]
  },
  {
   "cell_type": "code",
   "execution_count": 17,
   "metadata": {},
   "outputs": [],
   "source": [
    "# paths of documents to index\n",
    "helpsheet_dir = r\"documents/helpsheet collection\"\n",
    "helpsheet_paths = [\n",
    "    f\n",
    "    for f in os.listdir(helpsheet_dir)\n",
    "    if os.path.isfile(os.path.join(helpsheet_dir, f))\n",
    "]"
   ]
  },
  {
   "cell_type": "code",
   "execution_count": 18,
   "metadata": {},
   "outputs": [],
   "source": [
    "text_splitter = RecursiveCharacterTextSplitter(chunk_size=1000, chunk_overlap=200)\n",
    "\n",
    "# index documents (takes forever)\n",
    "# adapted from https://python.langchain.com/docs/modules/data_connection/document_loaders/pdf/#using-pypdf\n",
    "if collection.count() == 0:\n",
    "    for i, hs_path in tqdm(enumerate(helpsheet_paths)):\n",
    "        print(i, hs_path)\n",
    "        # load document\n",
    "        loader = PyPDFLoader(os.path.join(helpsheet_dir, hs_path))\n",
    "        docs = loader.load()\n",
    "        # split document into chunks\n",
    "        splits = text_splitter.split_documents(docs)\n",
    "        # unique ids for each chunk\n",
    "        ids = [f\"{i} - {j}\" for j in range(len(splits))]\n",
    "        # add chunks into chroma collection\n",
    "        collection.add(\n",
    "            ids=ids,\n",
    "            metadatas=[d.metadata for d in splits],\n",
    "            documents=[d.page_content for d in splits],\n",
    "        )"
   ]
  },
  {
   "cell_type": "code",
   "execution_count": 19,
   "metadata": {},
   "outputs": [],
   "source": [
    "# initialise langchain vector store from chroma client\n",
    "# adapted from https://python.langchain.com/docs/integrations/vectorstores/chroma/#passing-a-chroma-client-into-langchain\n",
    "vectorstore = Chroma(\n",
    "    client=client,\n",
    "    collection_name=\"helpsheets\",\n",
    "    embedding_function=emb,\n",
    ")\n",
    "retriever = vectorstore.as_retriever()"
   ]
  },
  {
   "cell_type": "code",
   "execution_count": 20,
   "metadata": {},
   "outputs": [],
   "source": [
    "# code for chat history (including next 2 code blocks)\n",
    "# adapted from https://python.langchain.com/docs/use_cases/question_answering/chat_history/\n",
    "contextualize_q_system_prompt = \"\"\"Given a chat history and the latest user question \\\n",
    "which might reference context in the chat history, formulate a standalone question \\\n",
    "which can be understood without the chat history. Do NOT answer the question, \\\n",
    "just reformulate it if needed and otherwise return it as is.\"\"\"\n",
    "contextualize_q_prompt = ChatPromptTemplate.from_messages(\n",
    "    [\n",
    "        (\"system\", contextualize_q_system_prompt),\n",
    "        MessagesPlaceholder(\"chat_history\"),\n",
    "        (\"human\", \"{input}\"),\n",
    "    ]\n",
    ")\n",
    "history_aware_retriever = create_history_aware_retriever(\n",
    "    llm, retriever, contextualize_q_prompt\n",
    ")"
   ]
  },
  {
   "cell_type": "code",
   "execution_count": 21,
   "metadata": {},
   "outputs": [],
   "source": [
    "qa_system_prompt = \"\"\"You are an computer science tutoring assistant for question-answering tasks. \\\n",
    "Use the following pieces of retrieved context to answer the question. \\\n",
    "Do not mention \"the context\". \\\n",
    "If you don't know the answer, just say that you don't know. \\\n",
    "Use five sentences maximum and keep the answer concise.\\\n",
    "\n",
    "{context}\"\"\"\n",
    "qa_prompt = ChatPromptTemplate.from_messages(\n",
    "    [\n",
    "        (\"system\", qa_system_prompt),\n",
    "        MessagesPlaceholder(\"chat_history\"),\n",
    "        (\"human\", \"{input}\"),\n",
    "    ]\n",
    ")\n",
    "\n",
    "\n",
    "question_answer_chain = create_stuff_documents_chain(llm, qa_prompt)\n",
    "\n",
    "rag_chain = create_retrieval_chain(history_aware_retriever, question_answer_chain)"
   ]
  },
  {
   "cell_type": "code",
   "execution_count": 22,
   "metadata": {},
   "outputs": [],
   "source": [
    "### Statefully manage chat history ###\n",
    "store = {}\n",
    "\n",
    "\n",
    "def get_session_history(session_id: str) -> BaseChatMessageHistory:\n",
    "    if session_id not in store:\n",
    "        store[session_id] = ChatMessageHistory()\n",
    "    return store[session_id]\n",
    "\n",
    "\n",
    "conversational_rag_chain = RunnableWithMessageHistory(\n",
    "    rag_chain,\n",
    "    get_session_history,\n",
    "    input_messages_key=\"input\",\n",
    "    history_messages_key=\"chat_history\",\n",
    "    output_messages_key=\"answer\",\n",
    ")"
   ]
  },
  {
   "cell_type": "code",
   "execution_count": 23,
   "metadata": {},
   "outputs": [],
   "source": [
    "# streams llm output\n",
    "# adapted from https://python.langchain.com/docs/use_cases/question_answering/streaming/\n",
    "def query_and_print(input: str, session_id=\"abc123\"):\n",
    "    for chunk in conversational_rag_chain.stream(\n",
    "        {\"input\": input},\n",
    "        config={\n",
    "            \"configurable\": {\"session_id\": session_id}\n",
    "        },  # constructs a key \"abc123\" in `store`.\n",
    "    ):\n",
    "        if \"answer\" in chunk:\n",
    "            print(chunk[\"answer\"], end=\"\")\n",
    "        else:\n",
    "            print(chunk)"
   ]
  },
  {
   "cell_type": "code",
   "execution_count": 28,
   "metadata": {},
   "outputs": [
    {
     "name": "stdout",
     "output_type": "stream",
     "text": [
      "{'input': 'What is an MST?'}\n",
      "{'chat_history': []}\n",
      "{'context': [Document(page_content='•A≤PB,B≤PC⇒A≤PCPolynomial Time\\n•polynomialtime→runtime is polynomial in the length of\\nthe encoding of the problem instance\\n•\"standard\"encodings\\n•binary encoding of integers\\n•list of parameters enclosed in braces (graphs/matrices)\\n•pseudo-polynomialalgorithm→runs in time polynomial in\\nthenumeric value if the input but is exponential in the\\nlengthof the input\\n•e.g. DP algo for Knapsack sinceWis in numeric value\\n•Knapsack is NOT polynomial time: O(nWlogM)butWis\\nnot the number of bits\\n•Fractional Knapsack is polynomial time:\\nO(nlognlogWlogM)\\nDecision Problems\\n•decisionproblem→a function that maps an instance\\nspaceIto the solution set{YES,NO}\\n•decision vs optimisation problem:\\n•decision problem : given a directed graph G,is therea\\npath from vertex utovof length≤k?\\n•optimisation problem : given ..., what is the lengthof the\\nshortest path ... ?\\n•convert from decision→optimisation : given an\\ninstance of the optimisation problem and a number k, is\\nthere a solution with value ≤k?', metadata={'page': 4, 'source': 'documents/helpsheet collection/cs3230-cheatsheet.pdf'}), Document(page_content='graph faster than O(VE), because for every vertex, we need O(E) time to determine \\nits neighbours. \\n Proof: \\nFalse. If we sort the edge list by the starting vertex followed by the second vertex, \\nwe can potentially reduce any searching time to be O(log E) for binary search. The sorting itself will be O(E log E). This combined with the processing of N vertices \\nresults in around O(Max(V log E/E log E)). \\n We can also translate an Edge List into an Adjacency List, which takes O(E) time. \\nThen we perform BFS/DFS with Adjacency List, which takes O(V+E) time. \\n \\nClaim: A connected graph has at least E = V - 1 edges. Prove or disprove it. \\n \\nProof: \\nTrue, as V-2 edges will not allow all vertices to be connected. V -1 allows us to form \\na tree. \\n \\nClaim: A single linked list has V vertices and E-1 directed edges. These edges go \\nfrom vertex i to i + 1, where 0 <= i < (V - 1). Therefore, there is only one topological \\nsort. Prove or disprove it.', metadata={'page': 9, 'source': 'documents/helpsheet collection/11 - Graph Operations and Analysis.pdf'}), Document(page_content='•Select(i) – Find the element at rank i\\n•LargerThan – get all elements greater than this item\\n•SmallerThan – get all elements smaller than this item\\nOrdered Map Implementation #1: Array \\nWe can technically use an array to perform operations as required above. However, it can be very inefficient. \\nUnsorted Array \\nOperation  Time Complexity  Analysis \\nSearch  O(N) Scan through all elements in array  \\nInsert O(1) Insert to the back since order does not matter  \\nRemove O(N) O(N) search and O(N) gap closing after deletion \\nGetMax  O(N) Scan through all elements in array \\nGetMin  O(N) Scan through all elements in array  \\nGetMedian  O(N log N) / O(N)  Sort the array (N log N) or use QuickSelect (N) \\nListSorted  O(N log N)  Comparison -based sorting  \\nSuccessor O(N) Scan through all elements in array  \\nPredecessor O(N) Scan through all elements in array  \\nRank ** O(N log N) / O(N)  Sort the array or use QuickSelect  \\nSelect * O(N log N) / O(N)  Sort the array or use QuickSelect', metadata={'page': 0, 'source': 'documents/helpsheet collection/8 - Ordered Map and BST.pdf'}), Document(page_content='•o(g(n)) ={f(n) :∀c>0,∃n0>0|∀n≥n0,0≤f(n)<cg(n)}\\n•ω(g(n)) ={f(n) :∀c>0,∃n0>0|∀n≥n0,0≤cg(n)<f(n)}\\nexample proofs\\nProof. that 2n2=O(n3)\\nletf(n) = 2n2. thenf(n) = 2n2≤n3whenn≥2.\\nsetc= 1andn0= 2.\\nwe havef(n) = 2n2≤c·n3forn≥n0.\\nProof.n=o(n2)\\nFor anyc>0, usen0= 2/c.\\nProof.n2−n=ω(n)\\nFor anyc>0, usen0= 2(c+ 1).\\nExample . letf(n) =nandg(n) =n1+sin(n).\\nBecause of the oscillating behaviour of the sine function, there is no n0for whichfdominatesgor vice versa.\\nHence, we cannot compare fandgusing asymptotic notation.\\nExample . letf(n) =nandg(n) =n(2 + sin(n)).\\nSince1\\n3g(n)≤f(n)≤g(n)for alln≥0, thenf(n) = Θ(g(n)). (note that limit rules will not work here)\\nmentioned algorithms\\n•ch.3 -Misra Gries - space-eﬃcient computation of the majority bit in array A\\n•ch.3 -Euclidean - eﬃcient computation of GCD of two integers\\n•ch.3 -Tower of Hanoi -T(n) = 2n−1\\n1. move the top n−1discs from the ﬁrst to the second peg using the third as temporary storage.\\n2. move the biggest disc directly to the empty third peg.', metadata={'page': 5, 'source': 'documents/helpsheet collection/cs3230-cheatsheet.pdf'})]}\n",
      "An MST (Minimum Spanning Tree) is a subset of the edges of a connected weighted graph that connect all the vertices together while minimizing the total edge weight. In other words, it is a subgraph of the original graph that contains all the vertices and has the smallest possible total edge weight. The MST is used in many algorithms, such as the Kruskal's algorithm and Prim's algorithm, to find the minimum spanning tree of a graph."
     ]
    }
   ],
   "source": [
    "query_and_print(\"What is an MST?\")"
   ]
  },
  {
   "cell_type": "code",
   "execution_count": 29,
   "metadata": {},
   "outputs": [
    {
     "name": "stdout",
     "output_type": "stream",
     "text": [
      "{'input': \"How to solve it using Prim's algorithm?\"}\n",
      "{'chat_history': [HumanMessage(content='What is an MST?'), AIMessage(content=\"An MST (Minimum Spanning Tree) is a subset of the edges of a connected weighted graph that connect all the vertices together while minimizing the total edge weight. In other words, it is a subgraph of the original graph that contains all the vertices and has the smallest possible total edge weight. The MST is used in many algorithms, such as the Kruskal's algorithm and Prim's algorithm, to find the minimum spanning tree of a graph.\")]}\n",
      "{'context': [Document(page_content='graph faster than O(VE), because for every vertex, we need O(E) time to determine \\nits neighbours. \\n Proof: \\nFalse. If we sort the edge list by the starting vertex followed by the second vertex, \\nwe can potentially reduce any searching time to be O(log E) for binary search. The sorting itself will be O(E log E). This combined with the processing of N vertices \\nresults in around O(Max(V log E/E log E)). \\n We can also translate an Edge List into an Adjacency List, which takes O(E) time. \\nThen we perform BFS/DFS with Adjacency List, which takes O(V+E) time. \\n \\nClaim: A connected graph has at least E = V - 1 edges. Prove or disprove it. \\n \\nProof: \\nTrue, as V-2 edges will not allow all vertices to be connected. V -1 allows us to form \\na tree. \\n \\nClaim: A single linked list has V vertices and E-1 directed edges. These edges go \\nfrom vertex i to i + 1, where 0 <= i < (V - 1). Therefore, there is only one topological \\nsort. Prove or disprove it.', metadata={'page': 9, 'source': 'documents/helpsheet collection/11 - Graph Operations and Analysis.pdf'}), Document(page_content='Collision \\nDue to the fact that we are hashing a large number of items to a smaller set of keys, \\nwe may encounter collisions, which is when more than one ite m gets mapped to the \\nsame key.  \\n \\nThis occurs more frequently than we would intuitively expect, as seen from Von \\nMises Paradox, where you only need 23 in a room to have >50% chance of at least 2 people sharing the same birthday. \\n \\nIn this case, we will need to resolve this collision in a way that still ensures efficiency. \\n \\nCriteria of a Good Collision Resolution Method \\n• Minimize clustering \\n• Always find an empty spot if it exists \\n• Give different probe sequences when two initial probes are the same (i.e. no \\nsecondary clustering) \\n• Fast \\n  \\nSeparate Chaining \\nThe most straightforward method is to keep storing the collided keys into the same \\nspot through the use of a Linked List. The slot in the array would be containing the \\nhead of a Linked List, where new <key, value> pairings can be inserted accordingly.', metadata={'page': 3, 'source': 'documents/helpsheet collection/5 - HashTable and Collisions.pdf'}), Document(page_content='However, there is no notion of parent, child, root or ancestor/descendant in a graph. \\nA simple graph is a set of vertices where some [0…NC2] pairs of the vertices are \\nconnected by edges. \\nA sparse graph and a dense graph are just ways to describe the number of edges \\ncompared to the number of vertices. There is no specification on how many edges would cause a sparse graph to become dense. \\nA complete graph has every vertex connected to all other vertices in the graph. In \\nother words, it is a simple graph with N vertices and \\nNC2 edges. \\nA simple path is a sequence vertices connected by a sequence of edges with no \\nrepeated vertex. \\nA simple directed path is a simple path connected by directed edges which are all \\nin one direction. \\nThe path length/cost of a path is the cost of traversing a path. In an unweighted \\ngraph, this is the number of edges in the path. In a weighted path, this would be the sum of edge weights in the path.', metadata={'page': 0, 'source': 'documents/helpsheet collection/10 - Graphs.pdf'}), Document(page_content='•o(g(n)) ={f(n) :∀c>0,∃n0>0|∀n≥n0,0≤f(n)<cg(n)}\\n•ω(g(n)) ={f(n) :∀c>0,∃n0>0|∀n≥n0,0≤cg(n)<f(n)}\\nexample proofs\\nProof. that 2n2=O(n3)\\nletf(n) = 2n2. thenf(n) = 2n2≤n3whenn≥2.\\nsetc= 1andn0= 2.\\nwe havef(n) = 2n2≤c·n3forn≥n0.\\nProof.n=o(n2)\\nFor anyc>0, usen0= 2/c.\\nProof.n2−n=ω(n)\\nFor anyc>0, usen0= 2(c+ 1).\\nExample . letf(n) =nandg(n) =n1+sin(n).\\nBecause of the oscillating behaviour of the sine function, there is no n0for whichfdominatesgor vice versa.\\nHence, we cannot compare fandgusing asymptotic notation.\\nExample . letf(n) =nandg(n) =n(2 + sin(n)).\\nSince1\\n3g(n)≤f(n)≤g(n)for alln≥0, thenf(n) = Θ(g(n)). (note that limit rules will not work here)\\nmentioned algorithms\\n•ch.3 -Misra Gries - space-eﬃcient computation of the majority bit in array A\\n•ch.3 -Euclidean - eﬃcient computation of GCD of two integers\\n•ch.3 -Tower of Hanoi -T(n) = 2n−1\\n1. move the top n−1discs from the ﬁrst to the second peg using the third as temporary storage.\\n2. move the biggest disc directly to the empty third peg.', metadata={'page': 5, 'source': 'documents/helpsheet collection/cs3230-cheatsheet.pdf'})]}\n",
      "Prim's algorithm is a popular algorithm for finding the Minimum Spanning Tree (MST) of a weighted graph. Here are the steps to solve it using Prim's algorithm:\n",
      "\n",
      "1. Initialize an empty tree T with the root vertex as the starting vertex.\n",
      "2. Sort the edges of the graph in non-decreasing order based on their weights.\n",
      "3. Start at the root vertex and mark it as visited.\n",
      "4. While there are still unvisited vertices in the graph, do the following:\n",
      "a. Find the edge with the minimum weight that connects two unvisited vertices.\n",
      "b. Add the edge to the tree T, making the adjacent vertices as children of the root vertex.\n",
      "c. Mark the unvisited vertices as visited.\n",
      "d. Repeat step 4(a) until there are no more unvisited vertices.\n",
      "5. Return the tree T as the MST of the graph.\n",
      "\n",
      "Here is a more detailed explanation of each step:\n",
      "\n",
      "1. Initialize an empty tree T with the root vertex as the starting vertex. This is the base case for our algorithm, and it represents the smallest possible subgraph that contains all the vertices.\n",
      "2. Sort the edges of the graph in non-decreasing order based on their weights. This step is important because we want to find the edge with the minimum weight that connects two unvisited vertices. If we didn't sort the edges, we might choose an edge with a higher weight than necessary.\n",
      "3. Start at the root vertex and mark it as visited. We start at the root vertex because it is the only vertex that is already visited.\n",
      "4. While there are still unvisited vertices in the graph, do the following:\n",
      "a. Find the edge with the minimum weight that connects two unvisited vertices. This step involves searching for the minimum-weight edge that connects two unvisited vertices. We use the sorting step from earlier to find the minimum-weight edge quickly.\n",
      "b. Add the edge to the tree T, making the adjacent vertices as children of the root vertex. This step creates a new node in the tree and connects it to the root vertex.\n",
      "c. Mark the unvisited vertices as visited. Once we add an edge to the tree, we know that the two adjacent vertices are now visited, so we mark them as visited.\n",
      "d. Repeat step 4(a) until there are no more unvisited vertices. This step continues until all the unvisited vertices are visited and added to the tree.\n",
      "5. Return the tree T as the MST of the graph. Once we complete the Prim's algorithm, we return the tree T as the MST of the original graph.\n",
      "\n",
      "It's worth noting that Prim's algorithm has a time complexity of O(|E| log |V|), where |E| is the number of edges and |V| is the number of vertices in the graph. This means that the algorithm's running time grows rapidly as the size of the graph increases."
     ]
    }
   ],
   "source": [
    "query_and_print(\"How to solve it using Prim's algorithm?\")"
   ]
  },
  {
   "cell_type": "code",
   "execution_count": 27,
   "metadata": {},
   "outputs": [],
   "source": [
    "store.clear()"
   ]
  }
 ],
 "metadata": {
  "kernelspec": {
   "display_name": ".venv",
   "language": "python",
   "name": "python3"
  },
  "language_info": {
   "codemirror_mode": {
    "name": "ipython",
    "version": 3
   },
   "file_extension": ".py",
   "mimetype": "text/x-python",
   "name": "python",
   "nbconvert_exporter": "python",
   "pygments_lexer": "ipython3",
   "version": "3.12.2"
  }
 },
 "nbformat": 4,
 "nbformat_minor": 2
}
